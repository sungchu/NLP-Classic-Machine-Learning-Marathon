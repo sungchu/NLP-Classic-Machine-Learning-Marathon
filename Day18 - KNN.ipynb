{
 "cells": [
  {
   "cell_type": "markdown",
   "metadata": {},
   "source": [
    "# 監督式學習與非監督式學習個別的優缺點？"
   ]
  },
  {
   "cell_type": "markdown",
   "metadata": {},
   "source": [
    "- 監督式學習\n",
    "    - 優點：能夠十分輕易的評斷模型的優劣，因為訓練過程中有明確的正確答案可以供模型驗證，也可以針對自己想要的結果進行針對性的調整。\n",
    "    - 缺點：一定要有資料標籤才能夠實現，否則在沒有正確答案提供模型參考的情況下，無法執行監督式機器學習，並且資料標籤算是資料整理中最複雜且麻煩的項目，大多需要人工前置準備。\n",
    "- 非監督式學習\n",
    "    - 優點：非監督式學習可以大大減低繁瑣的人力工作，找出潛在的規則。\n",
    "    - 缺點：可能造成不具重要性的特徵（Feature) 被過度放大，導致結果偏誤、無意義的分群結果。"
   ]
  },
  {
   "cell_type": "markdown",
   "metadata": {},
   "source": [
    "# 何謂主成分分析(PCA)?"
   ]
  },
  {
   "cell_type": "markdown",
   "metadata": {},
   "source": [
    "- 定義：主成分分析在機器學習內被歸類成為降維(Dimension reduction)內特徵擷取(Feature extraction)的一種方法，降維就是希望資料的維度數減少，但整體的效能不會差異太多甚至會更好。\n",
    "\n",
    "- 累積貢獻比率 (Cumulative Proportion)是從最重要的主成份開始往次重要的主成份到最不重要的主成份的變異量百分比累積，接著就從累積貢獻比率去決定需要取多少主要成分出來。"
   ]
  },
  {
   "cell_type": "markdown",
   "metadata": {},
   "source": [
    "# PCA 與 LDA(監督學習降維演算法) 的差異"
   ]
  },
  {
   "cell_type": "markdown",
   "metadata": {},
   "source": [
    "- 線性區別分析(Linear Discriminant Analysis，LDA）有些人拿來做降維(dimension reduction)，有些人拿來做分類(Classification)，如果用來做降維，此方法LDA會有個別稱區別分析特徵萃取(Discriminant Analysis Feature Extraction, DAFE)。\n",
    "- LDA是PCA延伸的一種降維方法。PCA目標是希望找到投影軸讓資料投影下去後分散量最大化，但PCA不需要知道資料的類別。而LDA也是希望資料投影下去後分散量最大，但不同的是這個分散量是希望「不同類別之間的分散量」越大越好。PCA是無監督式(unsupervised learning)方法，而LDA多了「不同類別」這四個字是一種監督式(supervised learning)方法。"
   ]
  },
  {
   "cell_type": "code",
   "execution_count": null,
   "metadata": {},
   "outputs": [],
   "source": []
  }
 ],
 "metadata": {
  "kernelspec": {
   "display_name": "Python 3",
   "language": "python",
   "name": "python3"
  },
  "language_info": {
   "codemirror_mode": {
    "name": "ipython",
    "version": 3
   },
   "file_extension": ".py",
   "mimetype": "text/x-python",
   "name": "python",
   "nbconvert_exporter": "python",
   "pygments_lexer": "ipython3",
   "version": "3.7.7"
  },
  "toc": {
   "base_numbering": 1,
   "nav_menu": {},
   "number_sections": true,
   "sideBar": true,
   "skip_h1_title": false,
   "title_cell": "Table of Contents",
   "title_sidebar": "Contents",
   "toc_cell": false,
   "toc_position": {},
   "toc_section_display": true,
   "toc_window_display": false
  }
 },
 "nbformat": 4,
 "nbformat_minor": 4
}
