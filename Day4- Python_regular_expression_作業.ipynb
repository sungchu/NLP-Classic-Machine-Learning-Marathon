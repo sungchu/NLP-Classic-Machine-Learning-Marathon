{
 "cells": [
  {
   "cell_type": "markdown",
   "metadata": {
    "colab_type": "text",
    "id": "tTJolmzeBLGr"
   },
   "source": [
    "# 作業目標: 使用python正規表達式對資料進行清洗處理\n",
    "\n",
    "這份作業我們會使用詐欺郵件的文本資料來作為清洗與處理的操作。\n",
    "[資料集](https://www.kaggle.com/rtatman/fraudulent-email-corpus/data#)"
   ]
  },
  {
   "cell_type": "markdown",
   "metadata": {
    "colab_type": "text",
    "id": "vhv0OElTBLGs"
   },
   "source": [
    "### 讀入資料文本\n",
    "因原始文本較大，先使用部份擷取的**sample_emails.txt**來進行練習"
   ]
  },
  {
   "cell_type": "code",
   "execution_count": 1,
   "metadata": {
    "colab": {},
    "colab_type": "code",
    "id": "a0BdDqt1BLGt"
   },
   "outputs": [],
   "source": [
    "#讀取文本資料\n",
    "with open('sample_emails.txt', 'r') as f:\n",
    "    sample_corpus = f.read()"
   ]
  },
  {
   "cell_type": "code",
   "execution_count": 2,
   "metadata": {
    "colab": {},
    "colab_type": "code",
    "id": "XQbjXNKdBLGx",
    "outputId": "97497027-4c29-4dcf-9cf4-94b0081dac54",
    "scrolled": true
   },
   "outputs": [
    {
     "data": {
      "text/plain": [
       "'From r  Wed Oct 30 21:41:56 2002\\nReturn-Path: <james_ngola2002@maktoob.com>\\nX-Sieve: cmu-sieve 2.0\\nReturn-Path: <james_ngola2002@maktoob.com>\\nMessage-Id: <200210310241.g9V2fNm6028281@cs.CU>\\nFrom: \"MR. JAMES NGOLA.\" <james_ngola2002@maktoob.com>\\nReply-To: james_ngola2002@maktoob.com\\nTo: webmaster@aclweb.org\\nDate: Thu, 31 Oct 2002 02:38:20 +0000\\nSubject: URGENT BUSINESS ASSISTANCE AND PARTNERSHIP\\nX-Mailer: Microsoft Outlook Express 5.00.2919.6900 DM\\nMIME-Version: 1.0\\nContent-Type: text/plain; charset=\"us-ascii\"\\nContent-Transfer-Encoding: 8bit\\nX-MIME-Autoconverted: from quoted-printable to 8bit by sideshowmel.si.UM id g9V2foW24311\\nStatus: O\\n\\nFROM:MR. JAMES NGOLA.\\nCONFIDENTIAL TEL: 233-27-587908.\\nE-MAIL: (james_ngola2002@maktoob.com).\\n\\nURGENT BUSINESS ASSISTANCE AND PARTNERSHIP.\\n\\n\\nDEAR FRIEND,\\n\\nI AM ( DR.) JAMES NGOLA, THE PERSONAL ASSISTANCE TO THE LATE CONGOLESE (PRESIDENT LAURENT KABILA) WHO WAS ASSASSINATED BY HIS BODY GUARD ON 16TH JAN. 2001.\\n\\n\\nTHE INCIDENT OCCURRED IN OUR PRESENCE WHILE WE WERE HOLDING MEETING WITH HIS EXCELLENCY OVER THE FINANCIAL RETURNS FROM THE DIAMOND SALES IN THE AREAS CONTROLLED BY (D.R.C.) DEMOCRATIC REPUBLIC OF CONGO FORCES AND THEIR FOREIGN ALLIES ANGOLA AND ZIMBABWE, HAVING RECEIVED THE PREVIOUS DAY (USD$100M) ONE HUNDRED MILLION UNITED STATES DOLLARS, CASH IN THREE DIPLOMATIC BOXES ROUTED THROUGH ZIMBABWE.\\n\\nMY PURPOSE OF WRITING YOU THIS LETTER IS TO SOLICIT FOR YOUR ASSISTANCE AS TO BE A COVER TO THE FUND AND ALSO COLLABORATION IN MOVING THE SAID FUND INTO YOUR BANK ACCOUNT THE SUM OF (USD$25M) TWENTY FIVE MILLION UNITED STATES DOLLARS ONLY, WHICH I DEPOSITED WITH A SECURITY COMPANY IN GHANA, IN A DIPLOMATIC BOX AS GOLDS WORTH (USD$25M) TWENTY FIVE MILLION UNITED STATES DOLLARS ONLY FOR SAFE KEEPING IN A SECURITY VAULT FOR ANY FURTHER INVESTMENT PERHAPS IN YOUR COUNTRY. \\n\\nYOU WERE INTRODUCED TO ME BY A RELIABLE FRIEND OF MINE WHO IS A TRAVELLER,AND ALSO A MEMBER OF CHAMBER OF COMMERCE AS A RELIABLE AND TRUSTWORTHY PERSON WHOM I CAN RELY ON AS FOREIGN PARTNER, EVEN THOUGH THE NATURE OF THE TRANSACTION WAS NOT REVEALED TO HIM FOR SECURITY REASONS.\\n\\n\\nTHE (USD$25M) WAS PART OF A PROCEEDS FROM DIAMOND TRADE MEANT FOR THE LATE PRESIDENT LAURENT KABILA WHICH WAS DELIVERED THROUGH ZIMBABWE IN DIPLOMATIC BOXES. THE BOXES WERE KEPT UNDER MY CUSTODY BEFORE THE SAD EVENT THAT TOOK THE LIFE OF (MR. PRESIDENT).THE CONFUSION THAT ENSUED AFTER THE ASSASSINATION AND THE SPORADIC SHOOTING AMONG THE FACTIONS, I HAVE TO RUN AWAY FROM THE COUNTRY FOR MY DEAR LIFE AS I AM NOT A SOLDIER BUT A CIVIL SERVANT I CROSSED RIVER CONGO TO OTHER SIDE OF CONGO LIBREVILLE FROM THERE I MOVED TO THE THIRD COUNTRY GHANA WHERE I AM PRESENTLY TAKING REFUGE. \\n\\nAS A MATTER OF FACT, WHAT I URGENTLY NEEDED FROM YOU IS YOUR ASSISTANCE IN MOVING THIS MONEY INTO YOUR ACCOUNT IN YOUR COUNTRY FOR INVESTMENT WITHOUT RAISING EYEBROW. FOR YOUR ASSISTANCE I WILL GIVE YOU 20% OF THE TOTAL SUM AS YOUR OWN SHARE WHEN THE MONEY GETS TO YOUR ACCOUNT, WHILE 75% WILL BE FOR ME, OF WHICH WITH YOUR KIND ADVICE I HOPE TO INVEST IN PROFITABLE VENTURE IN YOUR COUNTRY IN OTHER TO SETTLE DOWN FOR MEANINGFUL LIFE, AS I AM TIRED OF LIVING IN A WAR ENVIRONMENT. \\n\\nTHE REMAINING 5% WILL BE USED TO OFFSET ANY COST INCURRED IN THE CAUSE OF MOVING THE MONEY TO YOUR ACCOUNT. IF THE PROPOSAL IS ACCEPTABLE TO YOU PLEASE CONTACT ME IMMEDIATELY THROUGH THE ABOVE TELEPHONE AND E-MAIL, TO ENABLE ME ARRANGE FACE TO FACE MEETING WITH YOU IN GHANA FOR THE CLEARANCE OF THE FUNDS BEFORE TRANSFRING IT TO YOUR BANK ACCOUNT AS SEEING IS BELIEVING. \\n\\nFINALLY, IT IS IMPORTANT ALSO THAT I LET YOU UNDERSTAND THAT THERE IS NO RISK INVOLVED WHATSOEVER AS THE MONEY HAD NO RECORD IN KINSHASA FOR IT WAS MEANT FOR THE PERSONAL USE OF (MR. PRESIDEND ) BEFORE THE NEFARIOUS INCIDENT OCCURRED, AND ALSO I HAVE ALL THE NECESSARY DOCUMENTS AS REGARDS TO THE FUNDS INCLUDING THE (CERTIFICATE OF DEPOSIT), AS I AM THE DEPOSITOR OF THE CONSIGNMENT.\\n\\n\\nLOOKING FORWARD TO YOUR URGENT RESPONSE.\\n\\nYOUR SINCERELY,\\n\\nMR. JAMES NGOLA. \\n\\n\\n\\n\\n\\n\\n\\n\\n\\n\\nFrom r  Thu Oct 31 08:11:39 2002\\nReturn-Path: <bensul2004nng@spinfinder.com>\\nX-Sieve: cmu-sieve 2.0\\nReturn-Path: <bensul2004nng@spinfinder.com>\\nMessage-Id: <200210311310.g9VDANt24674@bloodwork.mr.itd.UM>\\nFrom: \"Mr. Ben Suleman\" <bensul2004nng@spinfinder.com>\\nDate: Thu, 31 Oct 2002 05:10:00\\nTo: R@M\\nSubject: URGENT ASSISTANCE /RELATIONSHIP (P)\\nMIME-Version: 1.0\\nContent-Type: text/plain;charset=\"iso-8859-1\"\\nContent-Transfer-Encoding: 7bit\\nStatus: O\\n\\nDear Friend,\\n\\nI am Mr. Ben Suleman a custom officer and work as Assistant controller of the Customs and Excise department Of the Federal Ministry of Internal Affairs stationed at the Murtala Mohammed International Airport, Ikeja, Lagos-Nigeria.\\n\\nAfter the sudden death of the former Head of state of Nigeria General Sanni Abacha on June 8th 1998 his aides and immediate members of his family were arrested while trying to escape from Nigeria in a Chartered jet to Saudi Arabia with 6 trunk boxes Marked \"Diplomatic Baggage\". Acting on a tip-off as they attempted to board the Air Craft,my officials carried out a thorough search on the air craft and discovered that the 6 trunk boxes contained foreign currencies amounting to US$197,570,000.00(One Hundred and  Ninety-Seven Million Five Hundred Seventy Thousand United States Dollars).\\n\\nI declared only (5) five boxes to the government and withheld one (1) in my custody containing the sum of (US$30,000,000.00) Thirty Million United States Dollars Only, which has been disguised to prevent their being discovered during transportation process.Due to several media reports on the late head of state about all the money him and his co-government officials stole from our government treasury amounting\\nto US$55 Billion Dollars (ref:ngrguardiannews.com) of July 2nd 1999. Even the London times of July 1998 reported that General Abacha has over US$3.Billion dollars in one account overseas. We decided to conceal this one (1)box till the situation is calm and quite on the issue. The box was thus deposited with a security company here in Nigeria and tagged as \"Precious Stones and Jewellry\" in other that its\\ncontent will not be discovered. Now that all is calm, we (myself and two of my colleagues in the operations team) are now ready to move this box out of the country through a diplomatic arrangement which is the safest means. \\n\\nHowever as government officials the Civil Service Code of Conduct does not allow us by law to operate any foreign account or own foreign investment and the amount of money that can be found in our account\\ncannot be more than our salary on the average, thus our handicapp and our need for your assistance to help collect and keep safely in your account this money.\\n\\nTherefore we want you to assist us in moving this money out of Nigeria. We shall definitely compensate you handsomely for the assistance. We can do this by instructing the Security Company here in Nigeria to\\nmove the consignment to their affiliate branch office outside Nigeria through diplomatic means and the consignment will be termed as Precious Stones and Jewelleries\" which you bought during your visit to Nigeria and is being transfered to your country from here for safe keeping. Then we can arrange to meet at the destination country to take the delivery of the consignment. You will thereafter open an account there and lodge the Money there and gradually instruct remittance to your Country. \\n\\nThis business is 100% risk free for you so please treat this matter with utmost confidentiality .If you indicate your interest to assist us please just e-mail me for more Explanation on how we plan to execute the transaction.\\n\\nExpecting your response urgently.\\n\\nBest regards,\\n\\nMr. Ben Suleman\\n\\nFrom r  Thu Oct 31 17:27:16 2002\\nReturn-Path: <obong_715@epatra.com>\\nX-Sieve: cmu-sieve 2.0\\nReturn-Path: <obong_715@epatra.com>\\nMessage-Id: <200210312227.g9VMQvDj017948@bluewhale.cs.CU>\\nFrom: \"PRINCE OBONG ELEME\" <obong_715@epatra.com>\\nReply-To: obong_715@epatra.com\\nTo: webmaster@aclweb.org\\nDate: Thu, 31 Oct 2002 22:17:55 +0100\\nSubject: GOOD DAY TO YOU\\nX-Mailer: Microsoft Outlook Express 5.00.2919.6900DM\\nMIME-Version: 1.0\\nContent-Type: text/plain; charset=\"us-ascii\"\\nContent-Transfer-Encoding: 8bit\\nX-MIME-Autoconverted: from quoted-printable to 8bit by sideshowmel.si.UM id g9VMRBW20642\\nStatus: RO\\n\\nFROM HIS ROYAL MAJESTY (HRM) CROWN RULER OF ELEME KINGDOM \\nCHIEF DANIEL ELEME, PHD, EZE 1 OF ELEME.E-MAIL \\nADDRESS:obong_715@epatra.com  \\n\\nATTENTION:PRESIDENT,CEO Sir/ Madam. \\n\\nThis letter might surprise you because we have met\\nneither in person nor by correspondence. But I believe\\nit is one day that you got to know somebody either in\\nphysical or through correspondence. \\n\\nI got your contact through discreet inquiry from the\\nchambers of commerce and industry of your country on\\nthe net, you and your organization were revealed as\\nbeing quite astute in private entrepreneurship, one\\nhas no doubt in your ability to handle a financialbusiness transaction. \\n\\nHowever, I am the first son of His Royal\\nmajesty,Obong.D. Eleme , and the traditional Ruler of\\nEleme Province in the oil producing area of River\\nState of Nigeria. I am making this contact to you in\\nrespect of US$60,000,000.00 (Sixty Million United\\nState Dollars), which I inherited, from my latefather. \\n\\nThis money was accumulated from royalties paid to my\\nfather as compensation by the oil firms located in our\\narea as a result of oil presence on our land, which\\nhamper agriculture, which is our major source oflivelihood. \\n\\nUnfortunately my father died from protracted\\ndiabetes.But before his death he called my attention\\nand informed me that he lodged some funds on a two\\nboxes with a security firm with an open beneficiary\\nstatus. The lodgment security code number was also\\nrevealed to me, he then advised me to look for a\\nreliable business partner abroad, that will assist me\\nin investing the money in a lucrative business as a\\nresult of economic instability in Nigeria. So this is\\nthe main reason why I am contacting you for us to move\\nthis money from the security firm to any Country of\\nyour choice for investment purpose. \\n\\nSo I will like you to be the ultimate beneficiary, so\\nthat the funds can be moved in your name and\\nparticulars to any Country of your choice where it\\nwill be claimed and invested. Hence my father have had\\nintimated the security firm personnel that the\\nbeneficiary of the box is his foreign partner whose\\nparticulars will be forwarded to the firm when due. \\n\\nBut I will guide you Accordingly. As soon as the funds\\nreach, I will then come over to meet you in person, so\\nthat we can discuss physically on investment\\npotentials. Based on this assistance my Family and I\\nhave unanimously decided to give you 30% of the total\\nmoney, 5% for Charity home, 10% for expenses, which\\nmay arise during this transaction, Fax and phone bills\\ninclusive. The balance of 55% you will invest andmanaged for my Family. \\n\\nI hereby guarantee you that this is not government\\nmoney, it is not drug money and it is not money from\\narms deal. Though you have to maintain high degree of\\nconfidentiality on this matter. I will give more\\ndetails about the proceedings of this transaction as\\nsoon as I receive your favorable reply. \\n\\nPlease reply to my Email Address:obong_715@epatra.com\\nI hope this will be the beginning of a prosperous\\nrelationship between my family and your family. \\n\\nNevertheless if you are for any reason not interested,\\nkindly inform me immediately so that I will look foranother contact. \\n\\nI am waiting for your quick response. \\n\\nYours faithfully, \\n\\nPrince Obong Abbot \\n'"
      ]
     },
     "execution_count": 2,
     "metadata": {},
     "output_type": "execute_result"
    }
   ],
   "source": [
    "sample_corpus"
   ]
  },
  {
   "cell_type": "markdown",
   "metadata": {
    "colab_type": "text",
    "id": "aUg8HenSBLG2"
   },
   "source": [
    "### 讀取寄件者資訊\n",
    "觀察文本資料可以發現, 寄件者資訊都符合以下格式\n",
    "\n",
    "`From: <收件者姓名> <收件者電子郵件>`"
   ]
  },
  {
   "cell_type": "code",
   "execution_count": 3,
   "metadata": {
    "colab": {},
    "colab_type": "code",
    "id": "YgsUuHsfBLG2"
   },
   "outputs": [],
   "source": [
    "import re\n",
    "\n",
    "pattern = r\"From: .* \\<.*@.*\\.com\\>\"\n",
    "match = re.findall(pattern, sample_corpus)"
   ]
  },
  {
   "cell_type": "code",
   "execution_count": 4,
   "metadata": {
    "colab": {},
    "colab_type": "code",
    "id": "pofRrOGhBLG5",
    "outputId": "28eb134d-2dfa-4743-fae8-1f0abda25968"
   },
   "outputs": [
    {
     "data": {
      "text/plain": [
       "['From: \"MR. JAMES NGOLA.\" <james_ngola2002@maktoob.com>',\n",
       " 'From: \"Mr. Ben Suleman\" <bensul2004nng@spinfinder.com>',\n",
       " 'From: \"PRINCE OBONG ELEME\" <obong_715@epatra.com>']"
      ]
     },
     "execution_count": 4,
     "metadata": {},
     "output_type": "execute_result"
    }
   ],
   "source": [
    "match"
   ]
  },
  {
   "cell_type": "markdown",
   "metadata": {
    "colab_type": "text",
    "id": "Ac8KHAqTBLG7"
   },
   "source": [
    "### 只讀取寄件者姓名"
   ]
  },
  {
   "cell_type": "code",
   "execution_count": 5,
   "metadata": {
    "colab": {},
    "colab_type": "code",
    "id": "coBDE2iBBLG8",
    "outputId": "aada7b60-56bb-45ae-f25f-941218a541c2"
   },
   "outputs": [
    {
     "name": "stdout",
     "output_type": "stream",
     "text": [
      "\"MR. JAMES NGOLA.\"\n",
      "\"Mr. Ben Suleman\"\n",
      "\"PRINCE OBONG ELEME\"\n"
     ]
    }
   ],
   "source": [
    "pattern = r\"\\\".*\\\"\"\n",
    "\n",
    "for name in match:\n",
    "    print(re.search(pattern, name).group())"
   ]
  },
  {
   "cell_type": "markdown",
   "metadata": {
    "colab_type": "text",
    "id": "gaJefecaBLG-"
   },
   "source": [
    "### 只讀取寄件者電子信箱"
   ]
  },
  {
   "cell_type": "code",
   "execution_count": 6,
   "metadata": {
    "colab": {},
    "colab_type": "code",
    "id": "G55ADKW_BLG_",
    "outputId": "7f3d9657-87b9-4c78-d324-3df919ee84a7"
   },
   "outputs": [
    {
     "name": "stdout",
     "output_type": "stream",
     "text": [
      "james_ngola2002@maktoob.com\n",
      "bensul2004nng@spinfinder.com\n",
      "obong_715@epatra.com\n"
     ]
    }
   ],
   "source": [
    "pattern = r\"(?<=\\<).*(?=\\>)\"\n",
    "\n",
    "for name in match:\n",
    "    print(re.search(pattern, name).group())"
   ]
  },
  {
   "cell_type": "markdown",
   "metadata": {
    "colab_type": "text",
    "id": "t-RXjNLiBLHC"
   },
   "source": [
    "### 只讀取電子信箱中的寄件機構資訊\n",
    "ex: james_ngola2002@maktoob.com --> 取maktoob"
   ]
  },
  {
   "cell_type": "code",
   "execution_count": 7,
   "metadata": {
    "colab": {},
    "colab_type": "code",
    "id": "qC2Sd6_SBLHC",
    "outputId": "14e4e148-a660-4a15-88ac-e781300c9767"
   },
   "outputs": [
    {
     "name": "stdout",
     "output_type": "stream",
     "text": [
      "maktoob\n",
      "spinfinder\n",
      "epatra\n"
     ]
    }
   ],
   "source": [
    "pattern = r\"(?<=@).*(?=.com\\>)\"\n",
    "\n",
    "for name in match:\n",
    "    print(re.search(pattern, name).group())"
   ]
  },
  {
   "cell_type": "markdown",
   "metadata": {
    "colab_type": "text",
    "id": "vfzkuLCWBLHG"
   },
   "source": [
    "### 結合上面的配對方式, 將寄件者的帳號與機構訊返回\n",
    "ex: james_ngola2002@maktoob.com --> [james_ngola2002, maktoob]"
   ]
  },
  {
   "cell_type": "code",
   "execution_count": 8,
   "metadata": {
    "colab": {},
    "colab_type": "code",
    "id": "t3lTRThcBLHG",
    "outputId": "e94f295a-ffa4-4897-dc43-e93991aac20e"
   },
   "outputs": [
    {
     "name": "stdout",
     "output_type": "stream",
     "text": [
      "james_ngola2002, maktoob\n",
      "bensul2004nng, spinfinder\n",
      "obong_715, epatra\n"
     ]
    }
   ],
   "source": [
    "pattern_account = r\"(?<=\\<).*(?=@)\"\n",
    "pattern_mail = r\"(?<=@).*(?=.com\\>)\"\n",
    "\n",
    "for name in match:\n",
    "    account = re.search(pattern_account, name).group()\n",
    "    mail = re.search(pattern_mail, name).group()\n",
    "    print(\"{}, {}\".format(account, mail))"
   ]
  },
  {
   "cell_type": "markdown",
   "metadata": {
    "colab_type": "text",
    "id": "Yl-BMduNBLHJ"
   },
   "source": [
    "### 使用正規表達式對email資料進行處理\n",
    "這裡我們會使用到python其他的套件協助處理(ex: pandas, email, etc)，這裡我們只需要專注在正規表達式上即可，其他的套件是方便我們整理與處理資料。"
   ]
  },
  {
   "cell_type": "markdown",
   "metadata": {
    "colab_type": "text",
    "id": "kqCacQ9tBLHJ"
   },
   "source": [
    "### 讀取與切分Email\n",
    "讀入的email為一個長字串，利用正規表達式切割讀入的資料成一封一封的email，並將結果以list表示。\n",
    "\n",
    "輸出: [email_1, email_2, email_3, ....]"
   ]
  },
  {
   "cell_type": "code",
   "execution_count": 9,
   "metadata": {
    "colab": {},
    "colab_type": "code",
    "id": "k9BCVTqoBLHK",
    "outputId": "656ffc81-cb9b-4174-8511-9013985c4cad"
   },
   "outputs": [
    {
     "data": {
      "text/plain": [
       "3977"
      ]
     },
     "execution_count": 9,
     "metadata": {},
     "output_type": "execute_result"
    }
   ],
   "source": [
    "import re\n",
    "import pandas as pd\n",
    "import email\n",
    "\n",
    "###讀取文本資料:fradulent_emails.txt###\n",
    "with open('all_emails.txt', 'r', encoding=\"utf8\", errors='ignore') as f:\n",
    "    file = f.read()\n",
    "###切割讀入的資料成一封一封的email###\n",
    "###我們可以使用list來儲存每一封email###\n",
    "###注意！這裡請仔細觀察sample資料，看資料是如何切分不同email###\n",
    "emails = re.split(r\"From r\", file, flags=re.M)\n",
    "emails = emails[1:]\n",
    "len(emails) #查看有多少封email"
   ]
  },
  {
   "cell_type": "markdown",
   "metadata": {
    "colab_type": "text",
    "id": "e9IN-2o0BLHM"
   },
   "source": [
    "### 從文本中擷取所有寄件者與收件者的姓名和地址"
   ]
  },
  {
   "cell_type": "code",
   "execution_count": 10,
   "metadata": {},
   "outputs": [
    {
     "data": {
      "text/plain": [
       "['  Wed Oct 30 21:41:56 2002\\nReturn-Path: <james_ngola2002@maktoob.com>\\nX-Sieve: cmu-sieve 2.0\\nReturn-Path: <james_ngola2002@maktoob.com>\\nMessage-Id: <200210310241.g9V2fNm6028281@cs.CU>\\nFrom: \"MR. JAMES NGOLA.\" <james_ngola2002@maktoob.com>\\nReply-To: james_ngola2002@maktoob.com\\nTo: webmaster@aclweb.org\\nDate: Thu, 31 Oct 2002 02:38:20 +0000\\nSubject: URGENT BUSINESS ASSISTANCE AND PARTNERSHIP\\nX-Mailer: Microsoft Outlook Express 5.00.2919.6900 DM\\nMIME-Version: 1.0\\nContent-Type: text/plain; charset=\"us-ascii\"\\nContent-Transfer-Encoding: 8bit\\nX-MIME-Autoconverted: from quoted-printable to 8bit by sideshowmel.si.UM id g9V2foW24311\\nStatus: O\\n\\nFROM:MR. JAMES NGOLA.\\nCONFIDENTIAL TEL: 233-27-587908.\\nE-MAIL: (james_ngola2002@maktoob.com).\\n\\nURGENT BUSINESS ASSISTANCE AND PARTNERSHIP.\\n\\n\\nDEAR FRIEND,\\n\\nI AM ( DR.) JAMES NGOLA, THE PERSONAL ASSISTANCE TO THE LATE CONGOLESE (PRESIDENT LAURENT KABILA) WHO WAS ASSASSINATED BY HIS BODY GUARD ON 16TH JAN. 2001.\\n\\n\\nTHE INCIDENT OCCURRED IN OUR PRESENCE WHILE WE WERE HOLDING MEETING WITH HIS EXCELLENCY OVER THE FINANCIAL RETURNS FROM THE DIAMOND SALES IN THE AREAS CONTROLLED BY (D.R.C.) DEMOCRATIC REPUBLIC OF CONGO FORCES AND THEIR FOREIGN ALLIES ANGOLA AND ZIMBABWE, HAVING RECEIVED THE PREVIOUS DAY (USD$100M) ONE HUNDRED MILLION UNITED STATES DOLLARS, CASH IN THREE DIPLOMATIC BOXES ROUTED THROUGH ZIMBABWE.\\n\\nMY PURPOSE OF WRITING YOU THIS LETTER IS TO SOLICIT FOR YOUR ASSISTANCE AS TO BE A COVER TO THE FUND AND ALSO COLLABORATION IN MOVING THE SAID FUND INTO YOUR BANK ACCOUNT THE SUM OF (USD$25M) TWENTY FIVE MILLION UNITED STATES DOLLARS ONLY, WHICH I DEPOSITED WITH A SECURITY COMPANY IN GHANA, IN A DIPLOMATIC BOX AS GOLDS WORTH (USD$25M) TWENTY FIVE MILLION UNITED STATES DOLLARS ONLY FOR SAFE KEEPING IN A SECURITY VAULT FOR ANY FURTHER INVESTMENT PERHAPS IN YOUR COUNTRY. \\n\\nYOU WERE INTRODUCED TO ME BY A RELIABLE FRIEND OF MINE WHO IS A TRAVELLER,AND ALSO A MEMBER OF CHAMBER OF COMMERCE AS A RELIABLE AND TRUSTWORTHY PERSON WHOM I CAN RELY ON AS FOREIGN PARTNER, EVEN THOUGH THE NATURE OF THE TRANSACTION WAS NOT REVEALED TO HIM FOR SECURITY REASONS.\\n\\n\\nTHE (USD$25M) WAS PART OF A PROCEEDS FROM DIAMOND TRADE MEANT FOR THE LATE PRESIDENT LAURENT KABILA WHICH WAS DELIVERED THROUGH ZIMBABWE IN DIPLOMATIC BOXES. THE BOXES WERE KEPT UNDER MY CUSTODY BEFORE THE SAD EVENT THAT TOOK THE LIFE OF (MR. PRESIDENT).THE CONFUSION THAT ENSUED AFTER THE ASSASSINATION AND THE SPORADIC SHOOTING AMONG THE FACTIONS, I HAVE TO RUN AWAY FROM THE COUNTRY FOR MY DEAR LIFE AS I AM NOT A SOLDIER BUT A CIVIL SERVANT I CROSSED RIVER CONGO TO OTHER SIDE OF CONGO LIBREVILLE FROM THERE I MOVED TO THE THIRD COUNTRY GHANA WHERE I AM PRESENTLY TAKING REFUGE. \\n\\nAS A MATTER OF FACT, WHAT I URGENTLY NEEDED FROM YOU IS YOUR ASSISTANCE IN MOVING THIS MONEY INTO YOUR ACCOUNT IN YOUR COUNTRY FOR INVESTMENT WITHOUT RAISING EYEBROW. FOR YOUR ASSISTANCE I WILL GIVE YOU 20% OF THE TOTAL SUM AS YOUR OWN SHARE WHEN THE MONEY GETS TO YOUR ACCOUNT, WHILE 75% WILL BE FOR ME, OF WHICH WITH YOUR KIND ADVICE I HOPE TO INVEST IN PROFITABLE VENTURE IN YOUR COUNTRY IN OTHER TO SETTLE DOWN FOR MEANINGFUL LIFE, AS I AM TIRED OF LIVING IN A WAR ENVIRONMENT. \\n\\nTHE REMAINING 5% WILL BE USED TO OFFSET ANY COST INCURRED IN THE CAUSE OF MOVING THE MONEY TO YOUR ACCOUNT. IF THE PROPOSAL IS ACCEPTABLE TO YOU PLEASE CONTACT ME IMMEDIATELY THROUGH THE ABOVE TELEPHONE AND E-MAIL, TO ENABLE ME ARRANGE FACE TO FACE MEETING WITH YOU IN GHANA FOR THE CLEARANCE OF THE FUNDS BEFORE TRANSFRING IT TO YOUR BANK ACCOUNT AS SEEING IS BELIEVING. \\n\\nFINALLY, IT IS IMPORTANT ALSO THAT I LET YOU UNDERSTAND THAT THERE IS NO RISK INVOLVED WHATSOEVER AS THE MONEY HAD NO RECORD IN KINSHASA FOR IT WAS MEANT FOR THE PERSONAL USE OF (MR. PRESIDEND ) BEFORE THE NEFARIOUS INCIDENT OCCURRED, AND ALSO I HAVE ALL THE NECESSARY DOCUMENTS AS REGARDS TO THE FUNDS INCLUDING THE (CERTIFICATE OF DEPOSIT), AS I AM THE DEPOSITOR OF THE CONSIGNMENT.\\n\\n\\nLOOKING FORWARD TO YOUR URGENT RESPONSE.\\n\\nYOUR SINCERELY,\\n\\nMR. JAMES NGOLA. \\n\\n\\n\\n\\n\\n\\n\\n\\n\\n\\n',\n",
       " '  Thu Oct 31 08:11:39 2002\\nReturn-Path: <bensul2004nng@spinfinder.com>\\nX-Sieve: cmu-sieve 2.0\\nReturn-Path: <bensul2004nng@spinfinder.com>\\nMessage-Id: <200210311310.g9VDANt24674@bloodwork.mr.itd.UM>\\nFrom: \"Mr. Ben Suleman\" <bensul2004nng@spinfinder.com>\\nDate: Thu, 31 Oct 2002 05:10:00\\nTo: R@M\\nSubject: URGENT ASSISTANCE /RELATIONSHIP (P)\\nMIME-Version: 1.0\\nContent-Type: text/plain;charset=\"iso-8859-1\"\\nContent-Transfer-Encoding: 7bit\\nStatus: O\\n\\nDear Friend,\\n\\nI am Mr. Ben Suleman a custom officer and work as Assistant controller of the Customs and Excise department Of the Federal Ministry of Internal Affairs stationed at the Murtala Mohammed International Airport, Ikeja, Lagos-Nigeria.\\n\\nAfter the sudden death of the former Head of state of Nigeria General Sanni Abacha on June 8th 1998 his aides and immediate members of his family were arrested while trying to escape from Nigeria in a Chartered jet to Saudi Arabia with 6 trunk boxes Marked \"Diplomatic Baggage\". Acting on a tip-off as they attempted to board the Air Craft,my officials carried out a thorough search on the air craft and discovered that the 6 trunk boxes contained foreign currencies amounting to US$197,570,000.00(One Hundred and  Ninety-Seven Million Five Hundred Seventy Thousand United States Dollars).\\n\\nI declared only (5) five boxes to the government and withheld one (1) in my custody containing the sum of (US$30,000,000.00) Thirty Million United States Dollars Only, which has been disguised to prevent their being discovered during transportation process.Due to several media reports on the late head of state about all the money him and his co-government officials stole from our government treasury amounting\\nto US$55 Billion Dollars (ref:ngrguardiannews.com) of July 2nd 1999. Even the London times of July 1998 reported that General Abacha has over US$3.Billion dollars in one account overseas. We decided to conceal this one (1)box till the situation is calm and quite on the issue. The box was thus deposited with a security company here in Nigeria and tagged as \"Precious Stones and Jewellry\" in other that its\\ncontent will not be discovered. Now that all is calm, we (myself and two of my colleagues in the operations team) are now ready to move this box out of the country through a diplomatic arrangement which is the safest means. \\n\\nHowever as government officials the Civil Service Code of Conduct does not allow us by law to operate any foreign account or own foreign investment and the amount of money that can be found in our account\\ncannot be more than our salary on the average, thus our handicapp and our need for your assistance to help collect and keep safely in your account this money.\\n\\nTherefore we want you to assist us in moving this money out of Nigeria. We shall definitely compensate you handsomely for the assistance. We can do this by instructing the Security Company here in Nigeria to\\nmove the consignment to their affiliate branch office outside Nigeria through diplomatic means and the consignment will be termed as Precious Stones and Jewelleries\" which you bought during your visit to Nigeria and is being transfered to your country from here for safe keeping. Then we can arrange to meet at the destination country to take the delivery of the consignment. You will thereafter open an account there and lodge the Money there and gradually instruct remittance to your Country. \\n\\nThis business is 100% risk free for you so please treat this matter with utmost confidentiality .If you indicate your interest to assist us please just e-mail me for more Explanation on how we plan to execute the transaction.\\n\\nExpecting your response urgently.\\n\\nBest regards,\\n\\nMr. Ben Suleman\\n\\n',\n",
       " '  Thu Oct 31 17:27:16 2002\\nReturn-Path: <obong_715@epatra.com>\\nX-Sieve: cmu-sieve 2.0\\nReturn-Path: <obong_715@epatra.com>\\nMessage-Id: <200210312227.g9VMQvDj017948@bluewhale.cs.CU>\\nFrom: \"PRINCE OBONG ELEME\" <obong_715@epatra.com>\\nReply-To: obong_715@epatra.com\\nTo: webmaster@aclweb.org\\nDate: Thu, 31 Oct 2002 22:17:55 +0100\\nSubject: GOOD DAY TO YOU\\nX-Mailer: Microsoft Outlook Express 5.00.2919.6900DM\\nMIME-Version: 1.0\\nContent-Type: text/plain; charset=\"us-ascii\"\\nContent-Transfer-Encoding: 8bit\\nX-MIME-Autoconverted: from quoted-printable to 8bit by sideshowmel.si.UM id g9VMRBW20642\\nStatus: RO\\n\\nFROM HIS ROYAL MAJESTY (HRM) CROWN RULER OF ELEME KINGDOM \\nCHIEF DANIEL ELEME, PHD, EZE 1 OF ELEME.E-MAIL \\nADDRESS:obong_715@epatra.com  \\n\\nATTENTION:PRESIDENT,CEO Sir/ Madam. \\n\\nThis letter might surprise you because we have met\\nneither in person nor by correspondence. But I believe\\nit is one day that you got to know somebody either in\\nphysical or through correspondence. \\n\\nI got your contact through discreet inquiry from the\\nchambers of commerce and industry of your country on\\nthe net, you and your organization were revealed as\\nbeing quite astute in private entrepreneurship, one\\nhas no doubt in your ability to handle a financialbusiness transaction. \\n\\nHowever, I am the first son of His Royal\\nmajesty,Obong.D. Eleme , and the traditional Ruler of\\nEleme Province in the oil producing area of River\\nState of Nigeria. I am making this contact to you in\\nrespect of US$60,000,000.00 (Sixty Million United\\nState Dollars), which I inherited, from my latefather. \\n\\nThis money was accumulated from royalties paid to my\\nfather as compensation by the oil firms located in our\\narea as a result of oil presence on our land, which\\nhamper agriculture, which is our major source oflivelihood. \\n\\nUnfortunately my father died from protracted\\ndiabetes.But before his death he called my attention\\nand informed me that he lodged some funds on a two\\nboxes with a security firm with an open beneficiary\\nstatus. The lodgment security code number was also\\nrevealed to me, he then advised me to look for a\\nreliable business partner abroad, that will assist me\\nin investing the money in a lucrative business as a\\nresult of economic instability in Nigeria. So this is\\nthe main reason why I am contacting you for us to move\\nthis money from the security firm to any Country of\\nyour choice for investment purpose. \\n\\nSo I will like you to be the ultimate beneficiary, so\\nthat the funds can be moved in your name and\\nparticulars to any Country of your choice where it\\nwill be claimed and invested. Hence my father have had\\nintimated the security firm personnel that the\\nbeneficiary of the box is his foreign partner whose\\nparticulars will be forwarded to the firm when due. \\n\\nBut I will guide you Accordingly. As soon as the funds\\nreach, I will then come over to meet you in person, so\\nthat we can discuss physically on investment\\npotentials. Based on this assistance my Family and I\\nhave unanimously decided to give you 30% of the total\\nmoney, 5% for Charity home, 10% for expenses, which\\nmay arise during this transaction, Fax and phone bills\\ninclusive. The balance of 55% you will invest andmanaged for my Family. \\n\\nI hereby guarantee you that this is not government\\nmoney, it is not drug money and it is not money from\\narms deal. Though you have to maintain high degree of\\nconfidentiality on this matter. I will give more\\ndetails about the proceedings of this transaction as\\nsoon as I receive your favorable reply. \\n\\nPlease reply to my Email Address:obong_715@epatra.com\\nI hope this will be the beginning of a prosperous\\nrelationship between my family and your family. \\n\\nNevertheless if you are for any reason not interested,\\nkindly inform me immediately so that I will look foranother contact. \\n\\nI am waiting for your quick response. \\n\\nYours faithfully, \\n\\nPrince Obong Abbot \\n\\n\\n',\n",
       " '  Thu Oct 31 17:53:56 2002\\nReturn-Path: <obong_715@epatra.com>\\nX-Sieve: cmu-sieve 2.0\\nReturn-Path: <obong_715@epatra.com>\\nMessage-Id: <200210312253.g9VMreDj018024@bluewhale.cs.CU>\\nFrom: \"PRINCE OBONG ELEME\" <obong_715@epatra.com>\\nDate: Thu, 31 Oct 2002 22:44:20\\nTo: webmaster@aclweb.org\\nSubject: GOOD DAY TO YOU\\nMIME-Version: 1.0\\nContent-Type: text/plain;charset=\"iso-8859-1\"\\nContent-Transfer-Encoding: 7bit\\nStatus: RO\\n\\nFROM HIS ROYAL MAJESTY (HRM) CROWN RULER OF ELEME KINGDOM \\nCHIEF DANIEL ELEME, PHD, EZE 1 OF ELEME.E-MAIL \\nADDRESS:obong_715@epatra.com  \\n\\nATTENTION:PRESIDENT,CEO Sir/ Madam. \\n\\nThis letter might surprise you because we have met\\nneither in person nor by correspondence. But I believe\\nit is one day that you got to know somebody either in\\nphysical or through correspondence. \\n\\nI got your contact through discreet inquiry from the\\nchambers of commerce and industry of your country on\\nthe net, you and your organization were revealed as\\nbeing quite astute in private entrepreneurship, one\\nhas no doubt in your ability to handle a financialbusiness transaction. \\n\\nHowever, I am the first son of His Royal\\nmajesty,Obong.D. Eleme , and the traditional Ruler of\\nEleme Province in the oil producing area of River\\nState of Nigeria. I am making this contact to you in\\nrespect of US$60,000,000.00 (Sixty Million United\\nState Dollars), which I inherited, from my latefather. \\n\\nThis money was accumulated from royalties paid to my\\nfather as compensation by the oil firms located in our\\narea as a result of oil presence on our land, which\\nhamper agriculture, which is our major source oflivelihood. \\n\\nUnfortunately my father died from protracted\\ndiabetes.But before his death he called my attention\\nand informed me that he lodged some funds on a two\\nboxes with a security firm with an open beneficiary\\nstatus. The lodgment security code number was also\\nrevealed to me, he then advised me to look for a\\nreliable business partner abroad, that will assist me\\nin investing the money in a lucrative business as a\\nresult of economic instability in Nigeria. So this is\\nthe main reason why I am contacting you for us to move\\nthis money from the security firm to any Country of\\nyour choice for investment purpose. \\n\\nSo I will like you to be the ultimate beneficiary, so\\nthat the funds can be moved in your name and\\nparticulars to any Country of your choice where it\\nwill be claimed and invested. Hence my father have had\\nintimated the security firm personnel that the\\nbeneficiary of the box is his foreign partner whose\\nparticulars will be forwarded to the firm when due. \\n\\nBut I will guide you Accordingly. As soon as the funds\\nreach, I will then come over to meet you in person, so\\nthat we can discuss physically on investment\\npotentials. Based on this assistance my Family and I\\nhave unanimously decided to give you 30% of the total\\nmoney, 5% for Charity home, 10% for expenses, which\\nmay arise during this transaction, Fax and phone bills\\ninclusive. The balance of 55% you will invest andmanaged for my Family. \\n\\nI hereby guarantee you that this is not government\\nmoney, it is not drug money and it is not money from\\narms deal. Though you have to maintain high degree of\\nconfidentiality on this matter. I will give more\\ndetails about the proceedings of this transaction as\\nsoon as I receive your favorable reply. \\n\\nPlease reply to my Email Address:obong_715@epatra.com\\nI hope this will be the beginning of a prosperous\\nrelationship between my family and your family. \\n\\nNevertheless if you are for any reason not interested,\\nkindly inform me immediately so that I will look foranother contact. \\n\\nI am waiting for your quick response. \\n\\nYours faithfully, \\n\\nPrince Obong Eleme\\n\\n',\n",
       " '  Fri Nov  1 04:48:39 2002\\nReturn-Path: <m_abacha03@www.com>\\nX-Sieve: cmu-sieve 2.0\\nReturn-Path: <m_abacha03@www.com>\\nMessage-Id: <200211010948.gA19mLu22932@perfectworld.mr.itd.UM>\\nFrom: \"Maryam Abacha\" <m_abacha03@www.com>\\nReply-To: m_abacha03@www.com\\nTo: R@M\\nDate: Fri, 1 Nov 2002 01:45:04 +0100\\nSubject: I Need Your Assistance.\\nX-Mailer: Microsoft Outlook Express 5.00.2919.6900 DM\\nMIME-Version: 1.0\\nContent-Type: text/plain; charset=\"us-ascii\"\\nContent-Transfer-Encoding: 8bit\\nX-MIME-Autoconverted: from quoted-printable to 8bit by sideshowmel.si.UM id gA19mVW29040\\nStatus: RO\\n\\nDear sir, \\n \\nIt is with a heart full of hope that I write to seek your help in respect of the context below. I am Mrs. Maryam Abacha the former first lady of the former Military Head of State of Nigeria General Sani Abacha whose sudden death occurred on 8th of June 1998 as a result of cardiac arrest (heart attack) while on the seat of power. \\nI have no doubt about your capability and good-will to assist me in receiving into your custody (for safety) the sum of US$25 Million willed and deposited in my favour by my late husband in a security and deposit company. Though my contact to you for this assistance is not anchored on any personal ecommendation, I pray your understanding, good will and sincere assistance to respond to this message with honest intensions and concern. \\nThis money is currently deposited here with a security company as miscellaneous awaiting collection and according to the agreement entered into at the time of deposit between my late husband and the Security Company at the time of deposit; the collection centre is in Ghana. As it is legally required, the administration of my late husband\\'s properties is under the authority of the family\\'s lawyer Tony Musa. \\n \\nMy Dear JK, since the demise of my husband, the present regime has been probing my late husband\\'s wealth and properties, the London Newsweek of 13th march 2000 referred. The investigating team led by Enrico Monfrini, the lawyer acting on behalf of the Nigerian government has so far submitted their report and presently, some liquid cash and assets, movable and immovable, have been frozen and seized both locally here and internationally and my last hope is rested on the immediate security of this fund in your custody. Also, Johnnie Cochran, the lawyer who defended OJ Simpson, has been brought in by the Abacha entourage to help them retain the disputed funds. Fortunately, our family lawyer had secretly protected the \"Personal will\" of my husband from the notice of the investigators and have strictly advised that the willed money be urgently moved into an overseas account of Trusted Foreign family friend without delay. For security reasons and f!\\nurther advise,! no relations or fr! \\niends of ours should be used; as this is a measure of security. The government had earlier placed foreign travel embargo on all our family members and seized all known local and International outfits of our business empire. \\nThe situation has been so terrible that we are virtually living on the assistance of well-wishers. In view of this plight, I expect you to be trustworthy and kind enough to respond to this \"SOS\" call to save my children and I from a hopeless future. \\nI hereby agree to compensate your sincere and candid effort, immensely, which will be discussed between you, the Attorney and I. On your immediate response, the Attorney will travel to Ghana where both of you will meet, and thereafter proceed to the deposit company for the claims. \\nThe documentations include, most importantly, Power of Attorney and Certificate of Deposit amongst few others. These documents will be sent to you by Fax, as you would have to present them for proper claims. \\nPlease, be rest assured that this transaction is completely safe and legal but must be kept strictly to yourself even after the funds have been secured into our custody. This is so because any leakage of information could ruin the whole transaction. \\nPlease all contacts must be made through my lawyer on his email: tony_m@lawyer.com This has to be so as he has been mandated to handle this matter and I have fully briefed him (my Attorney) on my contact to you. Due to my present circumstance, I have handed everything over to him to co - ordinate and finalize with you and I will communicate you as at when necessary. Please for the safety of this transaction, reply stating your phone and fax numbers to enable them contact you directly without running the risk of mail interception. \\nI look forward to your quick response. \\nBest Wishes, \\nMrs. Maryam Abacha \\n \\n\\n\\n',\n",
       " '  Sat Nov  2 00:18:06 2002\\nReturn-Path: <davidkuta@postmark.net>\\nX-Sieve: cmu-sieve 2.0\\nReturn-Path: <davidkuta@postmark.net>\\n\\t02 Nov 2002 06:23:11 -0000\\nMime-Version: 1.0\\nFrom: Kuta David <davidkuta@postmark.net>\\nTo: davidkuta@yahoo.com\\nSubject: Partnership\\nDate: Sat, 02 Nov 2002 06:23:11 +0000\\nContent-Type: text/plain; charset=\"iso-8859-1\"\\nStatus: RO\\n\\nATTENTION:                                    \\nPRESIDENT/MANAGING DIRECTOR \\n   \\nDear Sir/Madam, \\n   \\nRequest for Urgent Business Relationship \\n   \\nWe are Top Officials of the Federal Government of \\nNigeria Contract Review Panel who are interested in \\nimportation of goods into our country and \\ninvesting abroad with funds which are presently \\ntrapped in Nigeria. \\nIn order to commence this business we solicit your \\nassistance, knowledge and expertise to enable us \\nrecieve the said trapped  funds abroad, for the \\nsubsequent purchase and inventory of the goods to be \\nImported and the investment abroad. \\n   \\nThe source of this fund is as follows: During the \\nprevious military regimes in our country, government \\nofficials set up companies and awarded themselves \\ncontracts which were grossly over-invoiced in \\nvarious ministries. The new civilian government now \\nsetup  a contract review panel which i and my \\ncolleagues are members and we have identified a lot of \\ninflated sum, due to our position  as civil servants \\nand members of this panel, we cannot aquire this money \\nin our names. \\nI have therefore, been delegated as a matter of trust \\nby my colleagues of the panel to look for an oversea \\npartner into whose account the sum of us$31,000 000,00 \\n(thirty-one million united states dollars) will be \\nPaid by telegraphic transfer. Hence we are writting \\nyou this letter. \\n\\nWe have agreed to share the money thus: \\n1.  70% for us (the officials) \\n2.  20% for the foreign patner(you) \\n3.  10% to be used in settling taxation and local and \\nForeign expenses. \\n\\nIt is this 70% that we wish to commence the \\nimportation business and the investment abroad. Please \\nnote that this transaction is 100% safe and we hope \\nthat the funds can arrive your account in latest \\nten(10) banking days from the date of reciept of the \\nfollowing information.A suitable company name and bank \\naccount(company or personel) into which the funds can \\nbe paid. \\n   \\nThe above information will enable us write letters \\nof claim and job  description respectively. This way \\nwe will use your company\\'s name to apply for payments \\nand re-award the contract to your company name. \\n   \\nWe are looking foward to doing business with you and \\nsolicit your confidentiality  in this transaction. \\n   \\nPlease acknowledge reciept of this letter using this \\ne-mail address. \\ndavidkuta2002@yahoo.com \\nI await your urgent response. \\n\\nNOTE: ALL CORRESPONDENCE SHOULD BE  CONFIDENTIAL. \\n\\n   \\nBest Regards, \\nDavid Kuta \\n\\n\\n',\n",
       " '  Sat Nov  2 05:10:24 2002\\nReturn-Path: <tunde_dosumu@mailcity.com>\\nX-Sieve: cmu-sieve 2.0\\nReturn-Path: <tunde_dosumu@mailcity.com>\\nFrom: \"Barrister tunde dosumu\" <tunde_dosumu@lycos.com>\\nMessage-ID: <DDOJJKOJEHNONAAA@mailcity.com>\\nMime-Version: 1.0\\nContent-Language: en\\nX-Expiredinmiddle: true\\nReply-To: tunde_dosumu@lycos.com\\nX-Sent-Mail: off\\nX-Mailer: MailCity Service\\nSubject: Urgent Attention\\nX-Priority: 3\\nX-Sender-Ip: 208.14.9.28\\nOrganization: Lycos Mail  (http://www.mail.lycos.com:80)\\nContent-Type: text/plain; charset=us-ascii\\nContent-Language: en\\nContent-Transfer-Encoding: 7bit\\nStatus: O\\n\\nDear Sir,\\n\\nI am Barrister Tunde Dosumu (SAN) solicitor at law. I am the personal attorney to Mr. Eton Simon, a national of your country, who used to work with Shell Petroleum Development Company (SPDC)here in Nigeria. Here in after shall be referred to  me as my client.  On the 21st of April 2000, my client, his wife And  their three children were involved in a car accident along Sagbama Express Road. All occupants of the  vehicle unfortunately lost there lives.  Since then I  have made several enquiries to your embassy to locate  any of my clients extended relatives this has also  proved unsuccessful. \\n\\nAfter these several unsuccessful attempts, I decided  to track his last name over the Internet, to locate  any member of his family hence I contacted you.  I  have contacted you to assist in repatrating the money  and property left behind by my client before they get confisicated or declared unserviceable by the bank  where this huge deposits were lodged, particularly, the CITI TRUST BANK where the deceased had an  account valued at about US$14.7million dollars . The bank has issued me a notice to provide the next of kin or have the account confisicated within the next ten official\\nworking days. \\n\\nSince I have been unsuccesfull in locating the the relatives for over 2 years now I seek your consent to present you as the next of kin of the deceased since\\nyou have the same last name  so that the proceeds of this account valued at US$14.7 million dollars can be paid to you and then you and me can share the money. I have all necessary legal documents that can be used to back up any claim we may make.\\n\\nAll I require is your honest co-operation  to enable us see this dealthrough. I  guarantee that this will be executed under legitimate arrangement that will protect you from any breach of the law.Please get in touch with me via my private email address of barrister_tunde@lawyer.com to enable us discuss further. Or, call me on 234-80-33-432-485\\n\\nBest regards,\\n\\n\\nBarrister Tunde Dosumu (SAN).\\n\\n\\n__________________________________________________________\\nOutgrown your current e-mail service? Get 25MB Storage, POP3 Access,\\nAdvanced Spam protection with LYCOS MAIL PLUS.\\nhttp://login.mail.lycos.com/brandPage.shtml?pageId=plus&ref=lmtplus\\n\\n',\n",
       " '  Sun Nov  3 19:00:11 2002\\nReturn-Path: <william2244drallo@maktoob.com>\\nX-Sieve: cmu-sieve 2.0\\nReturn-Path: <william2244drallo@maktoob.com>\\nMessage-Id: <200211032359.gA3Nxem6007078@cs.CU>\\nFrom: \"William Drallo\" <william2244drallo@maktoob.com>\\nReply-To: william2244drallo@maktoob.com\\nTo: webmaster@aclweb.org\\nDate: Sun, 3 Nov 2002 23:56:20 +0000\\nSubject: URGENT BUSINESS PRPOSAL\\nX-Mailer: Microsoft Outlook Express 5.00.2919.6900 DM\\nMIME-Version: 1.0\\nContent-Type: text/plain; charset=\"us-ascii\"\\nContent-Transfer-Encoding: 8bit\\nX-MIME-Autoconverted: from quoted-printable to 8bit by sideshowmel.si.UM id gA4001W13094\\nStatus: O\\n\\nFROM: WILLIAM DRALLO.\\nCONFIDENTIAL TEL: 233-24-204567.\\n\\nI ascetained your contact through a reliable source,In\\nmy search for a foreign partner to assist me in my\\nbusiness. \\nI am William Drallo, the son of  late former Minister\\nOf Mines and Natural Resource during the time of Major\\nKoromah, the former Military Head of State of the\\nRepublic of  Sierra Leone, who was massacred by\\npresident Tijani Kabba force in their struggle to\\nreinstate him back to power.\\n\\nI and my brother are refugee here in Accra,Ghana since\\nthe death of our father, because of  the  condition of\\nhis death.Before the death of my  father some months\\nago he disclosed to me some money and gold he had\\ndeposited in a security company here in ghana. \\n\\nThe total amount of money which happened to\\nbe$28.3000.000.oo,US Dollars.And gold at 200Kg of\\n22Karat all in a security vault in ghana.\\n\\nThe document regarding this consignment was handed\\nover to me by my father before his death, I carefully\\nsearch and found the security Company where I\\nconfirmed that the consignment were deposited for safe\\nkeeping in their securit vault in ghana.\\n\\nThe content were deposited as a family valuable, By\\nvirtue of right as the son of my late father, the\\nsecurity company has accepted to release the\\nconsignment factually.\\n\\nI am seeking your assistance because my father has\\ndeclared the record with the security company stating\\nthat his foreign parrtner shall be the authorised\\nperson to make claim on this consignment becaues of\\nhis position in government on which no name was given\\nby my father as his foreign partner.\\n\\nTo this effect, I request to make the beneficiary of\\nhis consignment in your name as foreign partner to\\nclaim this consignment. For your assistance,I am ready\\nto give you 10%from the total sum.  This is a risk\\nfree transaction\\nas my father deposited this valuable as a personal\\nbelonging.\\nIn this situation every process to completely move\\nthis  valuable may not exceed (7) working days, if\\nyour co-operation to assist is sort.please include\\nyour phone and fax number for easy communication I\\nshall be very\\ngrateful to hear from you, all documents concerning\\nthis are intact with me, please kindly reach me as\\nsoon as possible in email address\\nwilliam22drallo@yahoo.com or william2244@maktoob.com\\n\\nBEST REGARDS\\n\\nWilliam Drallo\\n\\n\\n',\n",
       " '  Mon Nov  4 17:41:46 2002\\nReturn-Path: <abdul_817@rediffmail.com>\\nX-Sieve: cmu-sieve 2.0\\nReturn-Path: <abdul_817@rediffmail.com>\\nMessage-Id: <200211042241.gA4MfXP04856@pinkcadillac.mr.itd.UM>\\nFrom: \"MR USMAN ABDUL\" <abdul_817@rediffmail.com>\\nDate: Mon, 04 Nov 2002 23:41:26\\nTo: R@M\\nSubject: THANK YOU\\nMIME-Version: 1.0\\nContent-Type: text/plain;charset=\"iso-8859-1\"\\nContent-Transfer-Encoding: 7bit\\nStatus: O\\n\\nCHALLENGE SECURITIES LTD.\\nLAGOS, NIGERIA\\n\\n\\n\\nATTENTION:MADAM/SIR\\n\\nI am MR.USMAN ABACHA , the Director of Operations\\nCHALLENGE SECURITIES LTD,LAGOS NIGERIA. Here in\\nNIGERIA Our firm is a security company of high repute\\nwith years of outstanding service to the people of\\nAfrica.\\n\\nI have resolved to contact you through this medium\\nbased on business proposal that will be of mutual\\nbenefit to both of us. I got your particulars through\\na consultant company base on my research for a\\ntrustworthy and established person that understands\\ninvestment ethic for entering into a life time\\nprofitable joint partnership investment and also\\nco-operation with confidence and trust that you will\\nkeep the contents secret and divulged to any third\\nparty.\\n\\nTo be explicit and straight to the point. Some time\\nearly 1997, a reputable client of ours deposited a\\nconsignment in our company\\'s vault for safe keeping.\\nAnd since then our client has failed to come forward\\nto claim his consignment, which has accumulated a\\nconsiderable amount of money in demurrage.\\n\\nConsequently, in our bide to contact this client to\\nredeem the demurrage which his consignment had\\naccumulated we discovered that our client was the\\nformer president of the Federal Republic of Zaire, who\\ndied of illness after he was de-throwed in the same\\nyear the consignment was entrusted into our care.\\n\\nSince the death of our client President Mobutou\\nSeseseko, none of his benefactors has come forward to\\nclaim the consignment with us, which means that non of\\nhis relatives or aids had any knowledge of this\\nconsignment. Hence out of curiosity I decided to\\nsecretly open the two boxes that our client deposited\\nin our vault. And to my surprise I discovered that the\\ntwo boxes that were registered as treasurer by our\\nclient actually contained a considerable amount of\\nmoney in United States Dollars amounting to about\\nUS$30 million Dollar. Since this development I have\\nbeen nursing plans secretly. I also found out from\\nenquiries and the foreign media that our late client\\nsiphoned a lot of money from his country while he was\\nin office as head of state.\\n\\nIt is my conviction that the consignment in our vault\\nwas part of the money that our client siphoned and now\\nthat he is dead there is no race to this money in our\\ncare.\\n\\nI am now soliciting your noble assistance to assist me\\nin transferring this money out of nigeria to your\\ncountry for immediate investment with your assistance.\\nI have also decided that you will generously be\\nentitled to 30% of the total amount. Upon my receipt\\nof your reply confirming your willingness to assist me\\nof this transaction, I will immediately arrange and\\ntransfer all the rights of ownership of this\\nconsignment to your name to facilitate your easy\\nclearance and transfer of the complete funds to your\\ncountry.\\n\\nyou have nothing to worry about, as I will  be there\\nto assist you in anyway necessary with all proper\\ndocumentation.\\n\\nThis transaction is 100% risk free.\\n\\nPlease maintain absolute confidentiality on this\\nmatter.\\n\\n\\nThanks.\\n\\nYours faithfully.\\n\\nMR. USMAN ABDUL\\n\\n',\n",
       " '  Tue Nov  5 05:25:07 2002\\nReturn-Path: <barrister_td@mailcity.com>\\nX-Sieve: cmu-sieve 2.0\\nReturn-Path: <barrister_td@mailcity.com>\\nFrom: \"Tunde  Dosumu\" <barrister_td@lycos.com>\\nMessage-ID: <JOKFPGMHGGBECAAA@mailcity.com>\\nMime-Version: 1.0\\nX-Sent-Mail: off\\nReply-To: barrister_td@lycos.com\\nX-Expiredinmiddle: true\\nX-Mailer: MailCity Service\\nX-Priority: 3\\nSubject: Urgent Assistance\\nX-Sender-Ip: 208.14.9.28\\nOrganization: Lycos Mail  (http://www.mail.lycos.com:80)\\nContent-Type: text/plain; charset=us-ascii\\nContent-Language: en\\nContent-Transfer-Encoding: 7bit\\nStatus: RO\\n\\nDear Sir,\\n\\nI am Barrister Tunde Dosumu (SAN) solicitor at law. I am the personal attorney to Mr. Eton Simon, a national of your country, who used to work with Shell Petroleum Development Company (SPDC)here in Nigeria. Here in after shall be referred to  me as my client.  On the 21st of April 2000, my client, his wife And  their three children were involved in a car accident along Sagbama Express Road. All occupants of the  vehicle unfortunately lost there lives.  Since then I  have made several enquiries to your embassy to locate  any of my clients extended relatives this has also  proved unsuccessful. \\n\\nAfter these several unsuccessful attempts, I decided  to track his last name over the Internet, to locate  any member of his family hence I contacted you.  I  have contacted you to assist in repatrating the money  and property left behind by my client before they get confisicated or declared unserviceable by the bank  where this huge deposits were lodged, particularly, the CITI TRUST BANK where the deceased had an  account valued at about US$14.7million dollars . The bank has issued me a notice to provide the next of kin or have the account confisicated within the next ten official\\nworking days. \\n\\nSince I have been unsuccesfull in locating the the relatives for over 2 years now I seek your consent to present you as the next of kin of the deceased since\\nyou have the same last name  so that the proceeds of this account valued at US$14.7 million dollars can be paid to you and then you and me can share the money. I have all necessary legal documents that can be used to back up any claim we may make.\\n\\nAll I require is your honest co-operation  to enable us see this dealthrough. I  guarantee that this will be executed under legitimate arrangement that will protect you from any breach of the law.Please get in touch with me via my private email address of barrister_tunde@lawyer.com to enable us discuss further. Or, call me on 234-80-33-432-485\\n\\nBest regards,\\n\\n\\nBarrister Tunde Dosumu (SAN).\\n\\n\\n\\n\\n\\n\\n\\n\\n\\n\\n\\n\\n\\n\\n\\n\\n\\n\\n\\n\\n__________________________________________________________\\nOutgrown your current e-mail service? Get 25MB Storage, POP3 Access,\\nAdvanced Spam protection with LYCOS MAIL PLUS.\\nhttp://login.mail.lycos.com/brandPage.shtml?pageId=plus&ref=lmtplus\\n\\n',\n",
       " '  Tue Nov  5 11:49:54 2002\\nReturn-Path: <temijohnson2@rediffmail.com>\\nX-Sieve: cmu-sieve 2.0\\nReturn-Path: <temijohnson2@rediffmail.com>\\nMessage-Id: <200211051649.gA5Gnfp1024382@hobart.eecs.UM>\\nFrom: MR TEMI JOHNSON <temijohnson2@rediffmail.com>\\nTo: R@E\\nCc: \\nSubject: IMPORTANT\\nSender: MR TEMI JOHNSON <temijohnson2@rediffmail.com>\\nMime-Version: 1.0\\nContent-Type: text/plain; charset=\"iso-8859-1\"\\nDate: Tue, 6 Nov 2001 16:52:34 -0000\\nX-Mailer: QUALCOMM Windows Eudora Version 5.1\\nStatus: RO\\n\\nFROM: MR TEMI JOHNSON\\nDEMOCRATIC REPUBLIC OF CONGO.\\nTEL:44 7775770781\\nEMAIL:temijohnson@rediffmail.com \\nDear Sir,\\n \\nSEEKING YOUR IMMEDIATE ASSISTANCE.\\nPlease Permit me to make your acquaintance in so\\ninformal a manner. This is necessitated by my urgent need to reach a dependable and trust wordy foreign\\npartner. This request may seem strange and\\nunsolicited but I will crave your indulgence and pray that you view it seriously. My name is MR TEMI JOHNSON of the Democratic Republic of Congo and One of the close aides to the former President of the Democratic Republic of Congo LAURENT KABILA of blessed\\nmemory, may his soul rest in peace.\\n \\nDue to the military campaign of LAURENT KABILA to\\nforce out the rebels in my country, I and some of my\\ncolleagues were instructed by Late President Kabila\\nto  go abroad to purchase arms and ammunition worth of\\nTwenty Million, Five Hundred Thousand United States Dollars only (US$20,500,000.00) to fight the rebel group. But when President Kabila was killed in a bloody shoot-out by one of his aide a day before we were schedule to travel out of Congo, We immediately  decided to divert the fund into a private security company here in Congo for safe keeping. The security of the said amount is presently being threatened here following the arrest and seizure of properties of Col. Rasheidi Karesava (One of the aides to Laurent Kabila) a tribesman, and some other Military Personnel from our same tribe, by the new President of the Democratic Republic of Congo, the son of late President Laurent Kabila, Joseph Kabila. \\nIn view of this, we need a reliable and trustworthy foreign partner who can assist us to move this money out of my country as the beneficiary.\\nWE have sufficient \\'\\'CONTACTS\\'\\' to move the fund under Diplomatic Cover to a security company in the europe in your name. This is to ensure that the Diplomatic Baggage is marked \\'\\'CONFIDENTIAL\\'\\' and it  will not pass through normal custom/airport screening and clearance.\\nOur inability to move this money out of Congo all\\nThis while lies on our lack of trust on our supposed good friends (western countries) who suddenly became hostile to those of us who worked with the late President Kabila, immediately after his son took office. Though we have neither seen nor met each other, the information We gathered from an associate\\nwho has worked in your country has encouraged and convinced us that with your sincere assistance, this transaction will be properly handled with modesty\\nand honesty to a huge success within two weeks. The said money is a state fund and therefore requires a total confidentiality.\\nThus, if you are willing to assist us move this fund out of Congo, you can contact me through my email address above with your telephone, fax number and personal information to enable us discuss the modalities and what will be your share\\n(percentage) for assisting us.\\nI must use this opportunity and medium to implore You to exercise the utmost indulgence to keep this Matter extraordinarily confidential, Whatever your Decision, while I await your prompt response. Thank you and GodBless.\\n \\n Best Regards\\nMR TEMI JOHNSON\\n\\n',\n",
       " '  Thu Nov  7 23:15:38 2002\\nReturn-Path: <sjordan@diplomats.com>\\nX-Sieve: cmu-sieve 2.0\\nReturn-Path: <sjordan@diplomats.com>\\nMessage-Id: <200211080415.gA84FYF26895@bloodwork.mr.itd.UM>\\nFrom: \"Dr.Sam jordan\" <sjordan@diplomats.com>\\nDate: Fri, 08 Nov 2002 04:15:33\\nTo: R@M\\nSubject: URGENT ASSISTANCE.\\nMIME-Version: 1.0\\nContent-Type: text/plain;charset=\"iso-8859-1\"\\nContent-Transfer-Encoding: 7bit\\nStatus: O\\n\\nFROM THE DESK OF DR.SAM JORDAN\\nTHE MANAGER\\nHeadquarter,\\nFirst Bank of Nigeria Plc.\\nLagos, Nigeria.\\nAlternative E-mail: sam01jordan@yahoo.com\\nSir,\\n\\nCompliment of the day and how is life general with\\nyou? Of course it is my humble wish to solicit and\\ncrave your indulgence to make this project request for\\na joint business transaction which I hope will not\\ncome to you as a surprise, hence I plead for\\nyour pardon.\\n\\nI am Dr.Sam Jordan, the  Manager of headquarter\\nFirst Bank of Nigeria Plc. Lagos. I have an urgent and\\nconfidentialbusiness proposal for you. \\n\\nOn June 6, 1998, an Italian oil\\nconsultant/contractor with via National Petroleum\\ncooperation (NNPC) Mr. Paul Bush made a numbered time\\n(fixed) deposit for twelve calenderer month valued at\\nUS$43.7,000.00 in my branch.\\n\\nOn maturity, I sent a routine notification to his\\nforwarded address but got no reply after months we\\nsend a reminder and finally we discovered from his\\ncontract employee (Nigeria national petroleum\\nCorporation) that Mr. Paul Bush died from an\\nautomobile accident. On further investigation, it was\\nclear  that he died without making a will. All\\nattempts by the Australian to trace his next of\\nkin were fruitless.\\n\\nI therefore made further investigation and discovered\\nthat Mr. Paul Bush did not declare any next of kin or\\nrelations in all his official documents including his\\ndeposit document in my bank. The total sum\\nUS$43.7,000,000.00 is still in my bank as dormant\\nacct.\\nNo one will ever come forward to claim it. According\\nto Nigerian banking law, after five years, the money\\nwill revert to the ownership of the Nigerian\\nGovernment. If the account owner is certified death\\nand nobody comes forward to claim it.\\n\\nThis is the situation , and my proposal is that I am\\nlooking for a foreigner who will stand in as the\\nbeneficiary/next of kin. This is simple. All you have\\nto do is to immediately send me the details of a bank\\naccount anywhere in the world for me to arrange the\\nproper money transfer document. The money will then be\\ntransferred into the account for us to share in the\\nration of 60% for me 30% for you while the remaining\\n10% will be set aside for expenses incurred with\\nhere and there.\\n\\nThere is no risk involved. I am using my position and\\nconnection in the bank here to do all the document\\nwork for the transaction. We shall employ the services\\nof an attorney to draft the will and obtain all\\nnecessary documents and letter of administration in\\nyour fovour for the transfer. This transaction is risk\\nfree guaranteed. If you are interested, please reply\\nimmediately confidentiality and be rest assured that\\nthis transaction could be most profitable for both of\\nus. Please do not expose this deal if you are not\\ninterested because if you do, it will take me out\\nof seat.Please expenses is involve in this\\nbusiness,phone/fax number,and your bank particulars.\\n\\nI am awaiting your urgent reply.\\n\\nBest regards,\\n\\nDr.Sam Jordan.\\n\\n',\n",
       " '  Fri Nov  8 04:11:40 2002\\nReturn-Path: <p_brown2@lawyer.com>\\nX-Sieve: cmu-sieve 2.0\\nReturn-Path: <p_brown2@lawyer.com>\\nMessage-Id: <200211080911.gA89BJDj010332@bluewhale.cs.CU>\\nFrom: p_brown2@lawyer.com\\nReply-To: p_brown2@lawyer.com\\nTo: webmaster@aclweb.org\\nDate: Fri, 8 Nov 2002 10:12:26 +0100\\nSubject: From: Barrister Peter Brown\\nX-Mailer: QuickSender 1.05\\nMIME-Version: 1.0\\nContent-Type: text/plain; charset=\"windows-1252\"\\nContent-Transfer-Encoding: 8bit\\nX-MIME-Autoconverted: from quoted-printable to 8bit by sideshowmel.si.UM id gA89Baj13350\\nStatus: RO\\n\\n\\nSENIOR ADVOCATE OF NIGERIA\\nBARR. PETER BROWN (SAN)\\nTEL: 234-8042-138-545\\nE-MAIL: p_brown@lawyer.com\\n\\nDear Friend ,\\n\\nI am Barrister Peter Brown a member of Nigeria Bar\\nAssociation (NBA).Your contact reached me through the\\nWorld Business Encyclopaedia.Hence,I made up my mind to\\nintroduce this business to you in confidence for the\\nmutual benefit of both of us.\\n\\nThe sum of USD45M (Forty five Million United States)\\nwas lodged into a security company here in the Country\\nby the late Head of State (GEN.SANI ABACHA) for\\nsafe-keeping. This money was lodged in security vaults\\n/ boxes and labelled as personal belongings and as such\\nthe security company does not know the true content of\\nthe boxes.This money was originally meant to be used\\nfor his political campaign. Because I was his family\\nAttorney as such he confided in me with the\\nrelevant document papers relating to this deposit\\nbefore he died of cardiac arrest.\\n\\nAs a matter of fact we have concluded all arrangement\\nwith an offshore Security Company to move this money as\\na consignment through diplomatic means to their\\noffshore affiliated office where you will be required\\nto put claim to the consignment as the bonafide\\nbeneficiary of the consignment. You should know that\\nthis business is safety and 100% risk-free as it\\ndoes not involve drug money or Terrorist fund.\\n\\nIf you are interested to carry out this transaction\\nwith me, 20% will be for you for your assistance, 5%\\nfor general expenses, and 75% for us.\\n\\nYou are required to send by e-mail immediately your\\nFull name and Address, which I will use to draft an\\nagreement that will guide and protect both of us in\\nthis transaction also which will be used to\\neffect the change of ownership of the consignment to\\nyour name as the beneficiary of the consignment.\\n\\nAlso send me your Telephone and Fax numbers for easy\\ncommunication.\\n\\nOnce you notify me your willingness by sending the\\nabove requirement.This transaction will be concluded\\nwithin 7 (seven)working days.\\n\\nI will be waiting for your urgent reply.You can reach\\nme on my Cell Telephone No: 234-8042-138-545 or my\\nalternative E-mail: p_brown@lawyer.com\\n\\n\\nYours Faithfully,\\n\\nBarrister Peter Brown (SAN)\\n\\n\\n\\n\\n',\n",
       " '  Mon Nov 11 11:05:13 2002\\nReturn-Path: <mic_k1@post.com>\\nX-Sieve: cmu-sieve 2.0\\nReturn-Path: <mic_k1@post.com>\\nMessage-Id: <200211111605.gABG5AP01929@truecrime.mr.itd.UM>\\nFrom: mic_k1@post.com\\nSubject: MICHAEL\\nTo: R@M\\nContent-Type: text/plain;\\n\\tcharset=\"ANSI\"\\nReply-To: mic_k1@post.com\\nDate: Mon, 11 Nov 2002 17:26:54 +0100\\nX-Priority: 3\\nX-Library: Indy 9.0.3-B\\nX-Mailer: Foxmail\\nStatus: RO\\n\\nFrom;Mr.Michael Kamah and Family,\\n          Johannesburg,South Africa.\\n\\nMy Dear ,\\n\\nGood day.This very confidential request should come as a surprise to you.But it is because of the nature of what is happening to me and my family urged me to contact you, and I quite understand that this is not the best way to contact you because of the nature of my request and the attention it requires.I got your contact information from your country\\'s information directory during my desperate search for someone who can assist me secretly and confidentially in relocating and managing some family fortunes.\\n\\nMy name is Mr.Michael Kamah, the second son of Mr.Smith  Kamah, of Beitbridge Zimbabwe.At the height of the present political crises in our country,in which the white farmers in our country are being slained and ripped off their belongings by the supporters of our president,Mr.Robert G.Mugabe,in their efforts to reclaim all the white owned farms in our country,my father and my elder brother were brutally slained to a painful death on the 13th of february,2002, in their struggle to protect some white farmers who ran to take refuge in our house.My father,during his life on earth was a prominent business man who trades on diamond and gold from some foreign countries .He publicly opposes the crude policies and crime against humanity on the white farmers by Mr.Robert Mugabe and his followers,which they enforced media law restrictions to protect their wicked acts.That not being enough,the president and his followers after winning the last undemocratic elections decided to block an!\\nd confiscate all accounts and assets of our black indigenes[that included my fathers assets and accounts] who oppose his policies and render support to these white farmers,along with the assets of these white farmers themselves,that are being presently confiscated.I therefore decided to move my mother and younger sister to the Republic of South Africa,where we presently live without anything and without any source of livelyhood.\\n\\nDuring my fathers life on earth,he had deposited the sum of Seven Million and Four Hundred Thousand United States Dollars[$7.400.000.00],in a trunk box with a Finance and Security Company in the Republic of Togo for a cash and carry Diamond and Gold business with some foreign business customers, awaiting instructions to be moved to its destination,which he never completed before he met his untimely death on that faithful day.In view of this and as the only surviving son of my father,and with the present clamp down,killing and confiscation of his assets as one of those who render support to the white farmers in our country,I therefore humbly wish to inform you of my intentions to use your name and adress in making sure that this fund is lifted out of Africa finally,to the Europe office of the finance company and also seek for your honest and trustworthy assistance to help me clear and accommodate this money over there before it is dictated out and blocked by the present Mugab!\\ne\\'s regime.My mother is presently with the valid document covering this deposit.\\n\\nNow this is what I actually want you to do for me;\\n\\n1. I want you to be presented to the Finance and Security company as the person I contacted to assist my family for this purpose, with whose name and adress myself and my mother will forward to them their office in the Republic of Togo as the person that will clear this money when they lift it out to their europe office.\\n2. To finally assist me in accommodating and managing this money in any lucrative business in your country for at least three years. \\n\\nPlease,I hope you will grant and view this very request with favour and much understanding of our situation now,and will be a very honest and reliable person to deal with.And also bearing in mind the confidential nature of this my request,I emphasize please that you keep every bit of it to yourself so as to protect my familys future and yourself rendering this help.Thanking you in anticipation of your urgent response as soon as you read this very request.\\n\\nBest Regards, \\n\\nMr.Michael Kamah and family. \\n\\n',\n",
       " '  Tue Nov 12 11:08:15 2002\\nReturn-Path: <mikebunduu1@rediffmail.com>\\nX-Sieve: cmu-sieve 2.0\\nReturn-Path: <mikebunduu1@rediffmail.com>\\nMessage-Id: <200211121559.gACFxDiX014946@smtp.eecs.UM>\\nFrom: \"COL. MICHAEL BUNDU\" <mikebunduu1@rediffmail.com>\\nTo: R@E\\nCc: \\nSubject: *****SPAM***** IMPORTANT\\nSender: \"COL. MICHAEL BUNDU\" <mikebunduu1@rediffmail.com>\\nMime-Version: 1.0\\nContent-Type: text/plain; charset=\"iso-8859-1\"\\nContent-Type: text/plain; charset=\"iso-8859-1\"\\nDate: Tue, 13 Nov 2001 16:10:50 -0000\\nX-Mailer: Microsoft Outlook Express 5.00.2615.200\\nX-Spam-Status: Yes, hits=8.0 required=7.0\\n\\ttests=DEAR_SOMEBODY,US_DOLLARS,NIGERIAN_SCAM_7\\n\\tversion=2.31\\nX-Spam-Flag: YES\\nX-Spam-Report:   8 hits, 7 required;\\n  * -0.7 -- BODY: Contains \\'Dear Somebody\\'\\n  *  4.5 -- BODY: Nigerian scam key phrase\\n  *  4.2 -- BODY: Mutated Nigerian scams (7)\\nX-Spam-Level: ********\\nX-Spam-Checker-Version: SpamAssassin 2.31 (devel $Id: SpamAssassin.pm,v 1.94.2.2 2002/06/20 17:20:29 hughescr Exp $)\\nStatus: RO\\n\\nFROM: COL. MICHAEL BUNDU. \\nDEMOCRATIC REPUBLIC OF CONGO. \\nTel No: Your country Intl. access code + 8821652098236\\nemail : mikebundu@rediffmail.com\\nDear Sir/Madam\\n\\n\\nSEEKING YOUR IMMEDIATE ASSISTANCE. \\n\\nPlease permit me to make your acquaintance in so informal a manner. This is necessitated by my urgent need to reach a dependable and trust worthy foreign partner. This request may seem strange and unsolicited but I crave your indulgence and pray that you view it seriously. My name is COL. MICHAEL BUNDU of the Democratic Republic of Congo and one of the close aides to the former President of the Democratic Republic of Congo LAURENT KABILA of blessed memory, may his soul rest in peace. \\n\\nDue to the military campaign of LAURENT KABILA to force out the rebels in my country, I and some of my colleagues were instructed by Late President Kabila to go abroad to purchase arms and ammunition worth of Twenty Million, Five Hundred Thousand United States Dollars only (US$20,500,000.00) to fight the rebel group. We were then given this money privately by the then President, LAURENT KABILA, without the knowledge of other Cabinet Members. But when President Kabila was killed in a bloody shoot-out by one of his bodyguards a day before we were schedule to travel out of Congo, We immediately decided to put the funds into a private security company here in Congo for safe keeping. \\n\\nThe security of the said amount is presently being threatened here following the arrest and seizure of properties of Col. Rasheidi Karesava (One of the aides to Laurent Kabila) a tribesman, and some other Military Personnel from our same tribe, by the new President of the Democratic Republic of Congo, the son of late President Laurent Kabila, Joseph Kabila. \\n\\nIn view of this, we need a reliable and trustworthy foreign partner who can assist us to move this money out of my country as the beneficiary. \\nWE have sufficient \\'\\'CONTACTS\\'\\' here to move the fund under Diplomatic Cover to a security company in Europe in your name. This is to ensure that the Diplomatic Baggage is marked \\'\\'CONFIDENTIAL\\'\\' and it \\nwill not pass through normal custom/airport screening and clearance. \\n\\nOur inability to move this money out of Congo all this while stems from our lack of trust of our supposed good friends (western countries) who suddenly became hostile to those of us who worked with the late President Kabila, immediately after his son took office. Though we have neither seen nor met each other, the information We gathered from an associate who has worked in your country has encouraged and convinced us that with your sincere assistance, this transaction will be properly handled with modesty and honesty to a huge success within two weeks. The said money is a state fund and therefore requires a total confidentiality. \\n\\nWe would please need you to stand on our behalf as the beneficiary of this fund in Europe. This is because we are under restricted movement and watch and hence we want to be very careful in order not to lose this fund which we have worked so hard for. Thus, if you are willing to assist us to move this fund out of Congo, you can contact me through my email addresses, Tel/Fax nos. above with your telephone, fax number and personal information to enable us discuss the modalities and what will be your share (percentage) for assisting us.\\n\\nPlease note that There are no RISKS involved in this Deal as everyone\\'s Security is Guaranteed if we follow the required guidelines. I will hence furnish you with further details of this Deal as soon as I am assured of your Sincere interest to assist us. \\n\\nI must use this opportunity and medium to implore you to exercise the utmost indulgence to keep this matter extraordinarily confidential, Whatever your decision, while I await your prompt response. Thank you and God Bless. \\nBest Regards \\n\\n\\nCOL. MICHAEL BUNDU(RTD). mikebundu@rediffmail.com\\n\\nN\\\\B. When you are calling my line, you dial your country Intl. access code, then you dial directly, do not include my country code i.e. (243). Just dial your country Intl. access code + 88216 52098236. You can also contact me through the above email addresses.\\n\\n\\n',\n",
       " '  Thu Nov 14 10:46:28 2002\\nReturn-Path: <elixwilliam@usa.com>\\nX-Sieve: cmu-sieve 2.0\\nReturn-Path: <elixwilliam@usa.com>\\nMessage-Id: <200211141546.gAEFk9eS019479@cs.CU>\\nFrom: \"MRS MARIAM ABACHA\" <elixwilliam@usa.com>\\nReply-To: presidentwifeng@indiatimes.com\\nTo: webmaster@aclweb.org\\nDate: Thu, 14 Nov 2002 16:46:11 +0100\\nSubject: TRUST TRANSACTION\\nX-Mailer: Microsoft Outlook Express 5.00.2919.6900 DM\\nMIME-Version: 1.0\\nContent-Type: text/plain; charset=\"us-ascii\"\\nContent-Transfer-Encoding: 8bit\\nX-MIME-Autoconverted: from quoted-printable to 8bit by sideshowmel.si.UM id gAEFkKj05391\\nStatus: O\\n\\nDear Sir,\\n\\nA Very Good day to you   \\n\\nI am Mrs Mariam Abacha. I got your contact from a\\nclose Associate of mine who works with the Nigerian\\nChamber of Commerce and Industry  who visited your\\ncountry for an International Trade Fair upon my quest\\nfor a trusted and reliable foreign businessman or\\ncompany. \\nHe however gave me the assurance that you can be\\ntrusted to handle a transaction of this magnitude.\\nFollowing the sudden death of my husband General Sani\\nAbacha the late Former Head of State of Nigeria in\\n1998, I have been thrown into a state of utter\\nconfusion, frustration and hopelessness \\nby the present civilian administration, I have been\\nsubjected to physical and psychological torture by the\\nsecurity agents in the country. \\nAs a widow that is so traumatized, I have lost\\nconfidence with anybody within the country. You must\\nhave heard over the media reports and the internet on\\nthe recovery of various huge sums of money deposited\\nby my husband in different security firms abroad, some\\ncompanies willingly give up their secrets and\\ndisclosed our money confidently lodged there or many\\noutright blackmail. In fact the total sum discovered\\nby\\n the Government so far is in the tune of $700. Million\\ndollars. And they are not relenting to make me poor\\nfor life. I will give you more information  as to this\\nregard as soon as you reply. I repose great confidence\\nin you hence my approach to you due to security\\nnetwork placed on my day to day  affairs I cannot\\nafford to visit the embassy so that is why I decided\\nto contact you and I hope you will not betray my\\nconfidence in you. I have deposited  the sum of US$35\\nmillion dollars with a security firm abroad whose name\\nis withheld for now until we open communication. I\\nshall be grateful if you could receive this fund into\\nyour account for safekeeping. This arrangement is\\nknown to you and my family lawyer who shall deal\\ndirectly with you as I am still under house arrest. I\\nam seriously considering to settle down abroad as soon\\nas this fund get into your account so that I can start\\nall over again if only you wish, but if it is\\npossible, \\njust help me in diverting this funds into your bank\\naccount which will accrue you 20% of this fund. Please\\nhonesty is the watchword in this transaction. And\\nshould you accept my terms, kindly send me an email\\nsignifying your interest to my email box as this is\\nonly safe for me now so that we can commence\\n communication immediately. And upon receipt of your\\nmessage of interest, I shall give you a more detailed\\npicture of things. In case you don\\'t accept please do\\nnot let me out to the security as I am giving you this\\ninformation in total trust and confidence.NO RISK IS\\nINVOLVED AS IAM STILL IN CONTROL OF MY HUSBANDS\\nAFFAIRS. I will greatly appreciate if you accept my\\nproposal in good faith. \\n\\nPlease expedite action.    \\n\\nPrefer all further correspondence be sent via\\npresidentwifeng@indiatimes.com but please copy this email:profadams@\\nusa.com\\n\\nsincerely yours   \\n\\nHajia Mariam Abacha.    \\nfor certain comfirmations. Please logg into this internet sites\\nwww.swissmoney.net/briefs.htm and www.thisdayonline.com.ng\\nclick on archive, then click on 2001, click on march 10th,\\n\\n\\n\\n\\n',\n",
       " '  Thu Nov 14 18:40:51 2002\\nReturn-Path: <anayoawka@hotmail.com>\\nX-Sieve: cmu-sieve 2.0\\nReturn-Path: <anayoawka@hotmail.com>\\nMessage-Id: <200211142340.gAENeXDj026957@bluewhale.cs.CU>\\nFrom: \" DR. ANAYO AWKA \" <anayoawka@hotmail.com>\\nDate: Fri, 15 Nov 2002 00:40:13\\nTo: webmaster@aclweb.org\\nSubject: REQUEST FOR YOUR UNRESERVED ASSISTANCE\\nMIME-Version: 1.0\\nContent-Type: text/plain;charset=\"iso-8859-1\"\\nContent-Transfer-Encoding: 7bit\\nStatus: RO\\n\\nFROM: DR. ANAYO AWKA BANK MANAGER \\n(UNION BANK OF NIGERIA PLC)MARINA LAGOS\\n ATTENTION: PRESIDENT/CEO\\n Dear Sir,\\n\\n REQUEST FOR YOUR UNRESERVED ASSISTANCE\\n Firstly, I must solicit your confidence in this transaction, this is by virtue of its nature as being utterly confidential and top secret.Though I know that a transaction of this magnitude will make any oneapprehensive and worried, but I am assuring you that all will be well at theend of the day. We have decided to contact you due to the urgency of thistransaction, as we have been reliably informed of it\\'s swiftness andconfidentiality.\\n\\n Let me start by first introducing myself properly to you. I am DR.ANAYO AWKA , a Manager at the Union Bank Nigeria PLC, Lagos. I came to know of you in my private search for a reliable and reputable person to handle a very confidential transaction, which involves the transfer of a huge sum of money to a foreign account requiring maximum confidence. A foreigner, Late Engineer William Adams, an oil Merchant /contractor with the federal Government of Nigeria, until his death three years ago in a ghastly air crash, banked with us here at the Union Bank PLC ,Lagos, and had a closing balance of USD$22.2M (Twenty-Two Million, Two Hundred Thousand United States Dollars)\\nwhich the bank now unquestionably expects to be claimed by any of his available foreign next of kin or alternatively be donated to a discredited trust fund for arms and ammunition at a military war collage here in Nigeria.\\n\\n Fervent valuable efforts are being made by the Union Bank to get in touch with any of late Engr. William Adams\\'s next of kin (he had no known wife and children) that the management under the influence of our chairman, board of directors, Retired Major General Kalu Uke Kalu, that an arrangement for the fund to be declared \"UNCLIAMABLE \" and then be subsequently donated to the trust fund for Arms and Ammunition, which will further enhance the\\ncourse of war in Africa and the world in general. In order to avert this negative development, myself and some of my trusted colleagues in the bank now seek for your permission to have you stand as late Engr.WILLIAMS ADAMSs next of kin so that the fund, USD$22.2M, would be subsequently transferred and paid into your bank account as the\\nbeneficiary next of kin. All documents and proves to enable you get this fund have been carefully worked out and we are assuring you a 100% risk free involvement. Your share would be 30% of the total amoun!t.! 10% has been set aside for expenses, while the rest would befor myself and my colleagues for purposes in your country. \\n\\nIf this proposal is OK by you and you do not wish to take advantage of the trust we hope to bestow on you and your company, then kindly get to me immediately via my e-mail address furnishing me with your most confidential telephone, fax and e-mail, so that I can forward to you the relevant details of this transaction. Thank you in advance\\nfor your anticipated co-operation.\\n\\nRegards.\\n DR. ANAYO AWKA \\n(MANAGER UNION BANK OF NIGERIA PLC). \\n\\n\\n\\n',\n",
       " '  Thu Nov 14 19:19:18 2002\\nReturn-Path: <anayoawka@hotmail.com>\\nX-Sieve: cmu-sieve 2.0\\nReturn-Path: <anayoawka@hotmail.com>\\nMessage-Id: <200211150019.gAF0IvDj027127@bluewhale.cs.CU>\\nFrom: \" DR. ANAYO AWKA \" <anayoawka@hotmail.com>\\nDate: Fri, 15 Nov 2002 01:18:50\\nTo: webmaster@aclweb.org\\nSubject: REQUEST FOR YOUR UNRESERVED ASSISTANCE\\nMIME-Version: 1.0\\nContent-Type: text/plain;charset=\"iso-8859-1\"\\nContent-Transfer-Encoding: 7bit\\nStatus: RO\\n\\nFROM: DR. ANAYO AWKA BANK MANAGER \\n(UNION BANK OF NIGERIA PLC)MARINA LAGOS\\n ATTENTION: PRESIDENT/CEO\\n Dear Sir,\\n\\n REQUEST FOR YOUR UNRESERVED ASSISTANCE\\n Firstly, I must solicit your confidence in this transaction, this is by virtue of its nature as being utterly confidential and top secret.Though I know that a transaction of this magnitude will make any oneapprehensive and worried, but I am assuring you that all will be well at theend of the day. We have decided to contact you due to the urgency of thistransaction, as we have been reliably informed of it\\'s swiftness andconfidentiality.\\n\\n Let me start by first introducing myself properly to you. I am DR.ANAYO AWKA , a Manager at the Union Bank Nigeria PLC, Lagos. I came to know of you in my private search for a reliable and reputable person to handle a very confidential transaction, which involves the transfer of a huge sum of money to a foreign account requiring maximum confidence. A foreigner, Late Engineer William Adams, an oil Merchant /contractor with the federal Government of Nigeria, until his death three years ago in a ghastly air crash, banked with us here at the Union Bank PLC ,Lagos, and had a closing balance of USD$22.2M (Twenty-Two Million, Two Hundred Thousand United States Dollars)\\nwhich the bank now unquestionably expects to be claimed by any of his available foreign next of kin or alternatively be donated to a discredited trust fund for arms and ammunition at a military war collage here in Nigeria.\\n\\n Fervent valuable efforts are being made by the Union Bank to get in touch with any of late Engr. William Adams\\'s next of kin (he had no known wife and children) that the management under the influence of our chairman, board of directors, Retired Major General Kalu Uke Kalu, that an arrangement for the fund to be declared \"UNCLIAMABLE \" and then be subsequently donated to the trust fund for Arms and Ammunition, which will further enhance the\\ncourse of war in Africa and the world in general. In order to avert this negative development, myself and some of my trusted colleagues in the bank now seek for your permission to have you stand as late Engr.WILLIAMS ADAMSs next of kin so that the fund, USD$22.2M, would be subsequently transferred and paid into your bank account as the\\nbeneficiary next of kin. All documents and proves to enable you get this fund have been carefully worked out and we are assuring you a 100% risk free involvement. Your share would be 30% of the total amoun!t.! 10% has been set aside for expenses, while the rest would befor myself and my colleagues for purposes in your country. \\n\\nIf this proposal is OK by you and you do not wish to take advantage of the trust we hope to bestow on you and your company, then kindly get to me immediately via my e-mail address furnishing me with your most confidential telephone, fax and e-mail, so that I can forward to you the relevant details of this transaction. Thank you in advance\\nfor your anticipated co-operation.\\n\\nRegards.\\n DR. ANAYO AWKA \\n(MANAGER UNION BANK OF NIGERIA PLC). \\n\\n\\n\\n',\n",
       " '  Sat Nov 16 08:28:59 2002\\nReturn-Path: <victorloma@netscape.net>\\nX-Sieve: cmu-sieve 2.0\\nReturn-Path: <victorloma@netscape.net>\\n\\tby mp.op.nii.ac.jp (Mirapoint Messaging Server MOS 3.2.0-GA)\\n\\twith ESMTP id AGH01683;\\n\\tSat, 16 Nov 2002 22:24:02 +0900 (JST)\\nMessage-Id: <200211161324.gAGDO0I05212@nsx.nii.ac.jp>\\nFrom: \"Victor Aloma\" <victorloma@netscape.net>\\nDate: Sat, 16 Nov 2002 14:06:46\\nTo: ntcir-listmem@newns.op.nii.ac.jp\\nSubject: Urgent Assistance\\nMIME-Version: 1.0\\nContent-Type: text/plain;charset=\"iso-8859-1\"\\nContent-Transfer-Encoding: 7bit\\nStatus: RO\\n\\nThe Director,\\n\\n\\n\\n            SEEKING FOR IMMEDIATE ASSISTANCE \\n              (TRANSFER OF US$15.5MILLION)\\n\\nIt is my pleasure to request your assistance on this business proposition which if pursued to its conclusion ,will be of immense benefit to both of us. This request may seem strange but I will crave your indulgence and pray that you view it seriously. My name is Col. Victor Aloma of the Democratic Republic of Congo I am one of close aids to the formal president of Congo Democratic LAURENT KABILA of blessed memory, may his soul rest in peace.\\n\\nFor the military of LAURENT KABILA to force out the rebles in my country, I was instructed by him (late president Kabila) to go to the Europe to purchase ARMS\\nAND AMMUNIATION worth us$15.5(fifteen million Five Hundred Thousand us Dollars) to fight the reble groups. But when it became ap! parent  that president\\nKabila has been killed in a bloody shoot out by one of his aids. I immediately decided to divert the fund ( US$15.5) into  a private security company for safe\\nkeeping. The money is presently in Holland (The Netherlands) where I am currently in exile  after the death of president Kabila.\\n\\nI need a reliable and trust worthy foreign partner/national who can assist me to clear and move this money as the beneficiary from the security company.\\n\\nThough we have not seen nor met each other, but I would want this transaction to be properly handled with modesty and honesty to a huge success within two weeks, this money in question is state fund as it is a deal between you and I, hence the need for secrecy considering the security implications.\\n\\n\\nThus, if you are willing to assist me to move this fund out of the Netherlands, you can contact  me onthe above email addres to enable us discuss more about the deal and what  your percentage will be for assisting me.\\n\\nPlease note that you will be required to make a brief trip to the Netherlands for inspection of the fund. I also intend to visit your country soonest in order to inquire areas of possible business investment.\\n\\nI shall be sincerely glad if my request is rendered.\\n\\nKindest  Regards,\\n\\nCOL. Victor Aloma\\n\\n',\n",
       " '  Sat Nov 16 08:34:18 2002\\nReturn-Path: <victorloma@netscape.net>\\nX-Sieve: cmu-sieve 2.0\\nReturn-Path: <victorloma@netscape.net>\\nDelivered-To: ntcir-outgoing@mail.op.nii.ac.jp\\n\\tSat, 16 Nov 2002 22:24:02 +0900 (JST)\\nMessage-Id: <200211161324.gAGDO1I05213@nsx.nii.ac.jp>\\nFrom: \"Victor Aloma\" <victorloma@netscape.net>\\nDate: Sat, 16 Nov 2002 14:06:54\\nTo: ntcir-outgoing@nii.ac.jp\\nSubject: Urgent Assistance\\nMIME-Version: 1.0\\nContent-Type: text/plain;charset=\"iso-8859-1\"\\nContent-Transfer-Encoding: 7bit\\nStatus: RO\\n\\nThe Director,\\n\\n\\n\\n            SEEKING FOR IMMEDIATE ASSISTANCE \\n              (TRANSFER OF US$15.5MILLION)\\n\\nIt is my pleasure to request your assistance on this business proposition which if pursued to its conclusion ,will be of immense benefit to both of us. This request may seem strange but I will crave your indulgence and pray that you view it seriously. My name is Col. Victor Aloma of the Democratic Republic of Congo I am one of close aids to the formal president of Congo Democratic LAURENT KABILA of blessed memory, may his soul rest in peace.\\n\\nFor the military of LAURENT KABILA to force out the rebles in my country, I was instructed by him (late president Kabila) to go to the Europe to purchase ARMS\\nAND AMMUNIATION worth us$15.5(fifteen million Five Hundred Thousand us Dollars) to fight the reble groups. But when it became ap! parent  that president\\nKabila has been killed in a bloody shoot out by one of his aids. I immediately decided to divert the fund ( US$15.5) into  a private security company for safe\\nkeeping. The money is presently in Holland (The Netherlands) where I am currently in exile  after the death of president Kabila.\\n\\nI need a reliable and trust worthy foreign partner/national who can assist me to clear and move this money as the beneficiary from the security company.\\n\\nThough we have not seen nor met each other, but I would want this transaction to be properly handled with modesty and honesty to a huge success within two weeks, this money in question is state fund as it is a deal between you and I, hence the need for secrecy considering the security implications.\\n\\n\\nThus, if you are willing to assist me to move this fund out of the Netherlands, you can contact  me onthe above email addres to enable us discuss more about the deal and what  your percentage will be for assisting me.\\n\\nPlease note that you will be required to make a brief trip to the Netherlands for inspection of the fund. I also intend to visit your country soonest in order to inquire areas of possible business investment.\\n\\nI shall be sincerely glad if my request is rendered.\\n\\nKindest  Regards,\\n\\nCOL. Victor Aloma\\n\\n']"
      ]
     },
     "execution_count": 10,
     "metadata": {},
     "output_type": "execute_result"
    }
   ],
   "source": [
    "emails[:20]"
   ]
  },
  {
   "cell_type": "code",
   "execution_count": 11,
   "metadata": {
    "colab": {},
    "colab_type": "code",
    "id": "d_WRYFpcBLHM"
   },
   "outputs": [],
   "source": [
    "emails_list = [] #創建空list來儲存所有email資訊\n",
    "\n",
    "for mail in emails[:20]: #只取前20筆資料 (處理速度比較快)\n",
    "    emails_dict = dict() #創建空字典儲存資訊\n",
    "    ###取的寄件者姓名與地址###\n",
    "    \n",
    "    #Step1: 取的寄件者資訊 (hint: From:)\n",
    "    sender = re.search(r\"From:.*\", mail)\n",
    "    \n",
    "    #Step2: 取的姓名與地址 (hint: 要注意有時會有沒取到配對的情況)\n",
    "    if sender is not None:\n",
    "        sender_name = re.search(r\"(?<=From: \\\").*(?=\\\")\", sender.group())\n",
    "        sender_email = re.search(r\"\\w\\S*@.*\\b\", sender.group())\n",
    "    else:\n",
    "        sender_name = None\n",
    "        sender_email = None\n",
    "    \n",
    "    #Step3: 將取得的姓名與地址存入字典中\n",
    "    if sender_name is not None:\n",
    "        emails_dict[\"sender_name\"] = sender_name.group()\n",
    "    else:\n",
    "        emails_dict[\"sender_name\"] = sender_name\n",
    "    if sender_email is not None:\n",
    "        emails_dict[\"sender_email\"] = sender_email.group()\n",
    "    else:\n",
    "        emails_dict[\"sender_email\"] = sender_email        \n",
    "        \n",
    "    \n",
    "    ###取的收件者姓名與地址###\n",
    "    #Step1: 取的寄件者資訊 (hint: To:)\n",
    "    recipient = re.search(r\"To:.*\", mail)\n",
    "    \n",
    "    #Step2: 取的姓名與地址 (hint: 要注意有時會有沒取到配對的情況)\n",
    "    if recipient is not None:\n",
    "        recipient_name = re.search(r\"(?<=To: \\\").*(?=\\\")\", recipient.group())\n",
    "        recipient_email = re.search(r\"\\w\\S*@.*\\b\", recipient.group())\n",
    "    else:\n",
    "        recipient_name = None\n",
    "        recipient_email = None\n",
    "        \n",
    "    #Step3: 將取得的姓名與地址存入字典中\n",
    "    if recipient_name is not None:\n",
    "        emails_dict[\"recipient_name\"] = recipient_name.group()\n",
    "    else:\n",
    "        emails_dict[\"recipient_name\"] = recipient_name\n",
    "    if recipient_email is not None:\n",
    "        emails_dict[\"recipient_email\"] = recipient_email.group()\n",
    "    else:\n",
    "        emails_dict[\"recipient_email\"] = recipient_email     \n",
    "        \n",
    "        \n",
    "    ###取得信件日期###\n",
    "    #Step1: 取得日期資訊 (hint: To:)\n",
    "    date_info = re.search(r\"Date:.*\", mail)\n",
    "    \n",
    "    #Step2: 取得詳細日期(只需取得DD MMM YYYY)\n",
    "    if date_info is not None:\n",
    "        date = re.search(r\"\\d+\\s\\w+\\s\\d+\", date_info.group())\n",
    "    else:\n",
    "        date = None\n",
    "        \n",
    "    #Step3: 將取得的日期資訊存入字典中\n",
    "    if date is not None:\n",
    "        emails_dict[\"date\"] = date.group()\n",
    "    else:\n",
    "        emails_dict[\"date\"] = date\n",
    "        \n",
    "        \n",
    "        \n",
    "    ###取得信件主旨###\n",
    "    #Step1: 取得主旨資訊 (hint: Subject:)\n",
    "    subject = re.search(r\"Subject:.*\", mail)\n",
    "    \n",
    "    #Step2: 移除不必要文字 (hint: Subject: )\n",
    "    if subject is not None:\n",
    "        topic = re.search(r\"(?<=Subject: ).*\", subject.group())\n",
    "    else:\n",
    "        topic = None\n",
    "    \n",
    "    #Step3: 將取得的主旨存入字典中\n",
    "    if topic is not None:\n",
    "        emails_dict[\"subject\"] = topic.group()\n",
    "    else:\n",
    "        emails_dict[\"subject\"] = topic\n",
    "    \n",
    "    \n",
    "    ###取得信件內文###\n",
    "    #這裡我們使用email package來取出email內文 (可以不需深究，本章節重點在正規表達式)\n",
    "    try:\n",
    "        full_email = email.message_from_string(mail)\n",
    "        body = full_email.get_payload()\n",
    "        emails_dict[\"email_body\"] = body\n",
    "    except:\n",
    "        emails_dict[\"email_body\"] = None\n",
    "    \n",
    "    ###將字典加入list###\n",
    "    emails_list.append(emails_dict)"
   ]
  },
  {
   "cell_type": "code",
   "execution_count": 12,
   "metadata": {
    "colab": {},
    "colab_type": "code",
    "id": "CBfQRiYPBLHP"
   },
   "outputs": [
    {
     "data": {
      "text/html": [
       "<div>\n",
       "<style scoped>\n",
       "    .dataframe tbody tr th:only-of-type {\n",
       "        vertical-align: middle;\n",
       "    }\n",
       "\n",
       "    .dataframe tbody tr th {\n",
       "        vertical-align: top;\n",
       "    }\n",
       "\n",
       "    .dataframe thead th {\n",
       "        text-align: right;\n",
       "    }\n",
       "</style>\n",
       "<table border=\"1\" class=\"dataframe\">\n",
       "  <thead>\n",
       "    <tr style=\"text-align: right;\">\n",
       "      <th></th>\n",
       "      <th>sender_name</th>\n",
       "      <th>sender_email</th>\n",
       "      <th>recipient_name</th>\n",
       "      <th>recipient_email</th>\n",
       "      <th>date</th>\n",
       "      <th>subject</th>\n",
       "      <th>email_body</th>\n",
       "    </tr>\n",
       "  </thead>\n",
       "  <tbody>\n",
       "    <tr>\n",
       "      <th>0</th>\n",
       "      <td>MR. JAMES NGOLA.</td>\n",
       "      <td>james_ngola2002@maktoob.com</td>\n",
       "      <td>None</td>\n",
       "      <td>james_ngola2002@maktoob.com</td>\n",
       "      <td>31 Oct 2002</td>\n",
       "      <td>URGENT BUSINESS ASSISTANCE AND PARTNERSHIP</td>\n",
       "      <td>FROM:MR. JAMES NGOLA.\\nCONFIDENTIAL TEL: 233-2...</td>\n",
       "    </tr>\n",
       "    <tr>\n",
       "      <th>1</th>\n",
       "      <td>Mr. Ben Suleman</td>\n",
       "      <td>bensul2004nng@spinfinder.com</td>\n",
       "      <td>None</td>\n",
       "      <td>R@M</td>\n",
       "      <td>31 Oct 2002</td>\n",
       "      <td>URGENT ASSISTANCE /RELATIONSHIP (P)</td>\n",
       "      <td>Dear Friend,\\n\\nI am Mr. Ben Suleman a custom ...</td>\n",
       "    </tr>\n",
       "    <tr>\n",
       "      <th>2</th>\n",
       "      <td>PRINCE OBONG ELEME</td>\n",
       "      <td>obong_715@epatra.com</td>\n",
       "      <td>None</td>\n",
       "      <td>obong_715@epatra.com</td>\n",
       "      <td>31 Oct 2002</td>\n",
       "      <td>GOOD DAY TO YOU</td>\n",
       "      <td>FROM HIS ROYAL MAJESTY (HRM) CROWN RULER OF EL...</td>\n",
       "    </tr>\n",
       "    <tr>\n",
       "      <th>3</th>\n",
       "      <td>PRINCE OBONG ELEME</td>\n",
       "      <td>obong_715@epatra.com</td>\n",
       "      <td>None</td>\n",
       "      <td>webmaster@aclweb.org</td>\n",
       "      <td>31 Oct 2002</td>\n",
       "      <td>GOOD DAY TO YOU</td>\n",
       "      <td>FROM HIS ROYAL MAJESTY (HRM) CROWN RULER OF EL...</td>\n",
       "    </tr>\n",
       "    <tr>\n",
       "      <th>4</th>\n",
       "      <td>Maryam Abacha</td>\n",
       "      <td>m_abacha03@www.com</td>\n",
       "      <td>None</td>\n",
       "      <td>m_abacha03@www.com</td>\n",
       "      <td>1 Nov 2002</td>\n",
       "      <td>I Need Your Assistance.</td>\n",
       "      <td>Dear sir, \\n \\nIt is with a heart full of hope...</td>\n",
       "    </tr>\n",
       "    <tr>\n",
       "      <th>5</th>\n",
       "      <td>None</td>\n",
       "      <td>davidkuta@postmark.net</td>\n",
       "      <td>None</td>\n",
       "      <td>davidkuta@yahoo.com</td>\n",
       "      <td>02 Nov 2002</td>\n",
       "      <td>Partnership</td>\n",
       "      <td>ATTENTION:                                    ...</td>\n",
       "    </tr>\n",
       "    <tr>\n",
       "      <th>6</th>\n",
       "      <td>Barrister tunde dosumu</td>\n",
       "      <td>tunde_dosumu@lycos.com</td>\n",
       "      <td>None</td>\n",
       "      <td>tunde_dosumu@lycos.com</td>\n",
       "      <td>None</td>\n",
       "      <td>Urgent Attention</td>\n",
       "      <td>Dear Sir,\\n\\nI am Barrister Tunde Dosumu (SAN)...</td>\n",
       "    </tr>\n",
       "    <tr>\n",
       "      <th>7</th>\n",
       "      <td>William Drallo</td>\n",
       "      <td>william2244drallo@maktoob.com</td>\n",
       "      <td>None</td>\n",
       "      <td>william2244drallo@maktoob.com</td>\n",
       "      <td>3 Nov 2002</td>\n",
       "      <td>URGENT BUSINESS PRPOSAL</td>\n",
       "      <td>FROM: WILLIAM DRALLO.\\nCONFIDENTIAL TEL: 233-2...</td>\n",
       "    </tr>\n",
       "    <tr>\n",
       "      <th>8</th>\n",
       "      <td>MR USMAN ABDUL</td>\n",
       "      <td>abdul_817@rediffmail.com</td>\n",
       "      <td>None</td>\n",
       "      <td>R@M</td>\n",
       "      <td>04 Nov 2002</td>\n",
       "      <td>THANK YOU</td>\n",
       "      <td>CHALLENGE SECURITIES LTD.\\nLAGOS, NIGERIA\\n\\n\\...</td>\n",
       "    </tr>\n",
       "    <tr>\n",
       "      <th>9</th>\n",
       "      <td>Tunde  Dosumu</td>\n",
       "      <td>barrister_td@lycos.com</td>\n",
       "      <td>None</td>\n",
       "      <td>barrister_td@lycos.com</td>\n",
       "      <td>None</td>\n",
       "      <td>Urgent Assistance</td>\n",
       "      <td>Dear Sir,\\n\\nI am Barrister Tunde Dosumu (SAN)...</td>\n",
       "    </tr>\n",
       "    <tr>\n",
       "      <th>10</th>\n",
       "      <td>None</td>\n",
       "      <td>temijohnson2@rediffmail.com</td>\n",
       "      <td>None</td>\n",
       "      <td>R@E</td>\n",
       "      <td>6 Nov 2001</td>\n",
       "      <td>IMPORTANT</td>\n",
       "      <td>FROM: MR TEMI JOHNSON\\nDEMOCRATIC REPUBLIC OF ...</td>\n",
       "    </tr>\n",
       "    <tr>\n",
       "      <th>11</th>\n",
       "      <td>Dr.Sam jordan</td>\n",
       "      <td>sjordan@diplomats.com</td>\n",
       "      <td>None</td>\n",
       "      <td>R@M</td>\n",
       "      <td>08 Nov 2002</td>\n",
       "      <td>URGENT ASSISTANCE.</td>\n",
       "      <td>FROM THE DESK OF DR.SAM JORDAN\\nTHE MANAGER\\nH...</td>\n",
       "    </tr>\n",
       "    <tr>\n",
       "      <th>12</th>\n",
       "      <td>None</td>\n",
       "      <td>p_brown2@lawyer.com</td>\n",
       "      <td>None</td>\n",
       "      <td>p_brown2@lawyer.com</td>\n",
       "      <td>8 Nov 2002</td>\n",
       "      <td>From: Barrister Peter Brown</td>\n",
       "      <td>\\nSENIOR ADVOCATE OF NIGERIA\\nBARR. PETER BROW...</td>\n",
       "    </tr>\n",
       "    <tr>\n",
       "      <th>13</th>\n",
       "      <td>None</td>\n",
       "      <td>mic_k1@post.com</td>\n",
       "      <td>None</td>\n",
       "      <td>R@M</td>\n",
       "      <td>11 Nov 2002</td>\n",
       "      <td>MICHAEL</td>\n",
       "      <td>From;Mr.Michael Kamah and Family,\\n          J...</td>\n",
       "    </tr>\n",
       "    <tr>\n",
       "      <th>14</th>\n",
       "      <td>COL. MICHAEL BUNDU</td>\n",
       "      <td>mikebunduu1@rediffmail.com</td>\n",
       "      <td>None</td>\n",
       "      <td>R@E</td>\n",
       "      <td>13 Nov 2001</td>\n",
       "      <td>*****SPAM***** IMPORTANT</td>\n",
       "      <td>FROM: COL. MICHAEL BUNDU. \\nDEMOCRATIC REPUBLI...</td>\n",
       "    </tr>\n",
       "    <tr>\n",
       "      <th>15</th>\n",
       "      <td>MRS MARIAM ABACHA</td>\n",
       "      <td>elixwilliam@usa.com</td>\n",
       "      <td>None</td>\n",
       "      <td>presidentwifeng@indiatimes.com</td>\n",
       "      <td>14 Nov 2002</td>\n",
       "      <td>TRUST TRANSACTION</td>\n",
       "      <td>Dear Sir,\\n\\nA Very Good day to you   \\n\\nI am...</td>\n",
       "    </tr>\n",
       "    <tr>\n",
       "      <th>16</th>\n",
       "      <td>DR. ANAYO AWKA</td>\n",
       "      <td>anayoawka@hotmail.com</td>\n",
       "      <td>None</td>\n",
       "      <td>webmaster@aclweb.org</td>\n",
       "      <td>15 Nov 2002</td>\n",
       "      <td>REQUEST FOR YOUR UNRESERVED ASSISTANCE</td>\n",
       "      <td>FROM: DR. ANAYO AWKA BANK MANAGER \\n(UNION BAN...</td>\n",
       "    </tr>\n",
       "    <tr>\n",
       "      <th>17</th>\n",
       "      <td>DR. ANAYO AWKA</td>\n",
       "      <td>anayoawka@hotmail.com</td>\n",
       "      <td>None</td>\n",
       "      <td>webmaster@aclweb.org</td>\n",
       "      <td>15 Nov 2002</td>\n",
       "      <td>REQUEST FOR YOUR UNRESERVED ASSISTANCE</td>\n",
       "      <td>FROM: DR. ANAYO AWKA BANK MANAGER \\n(UNION BAN...</td>\n",
       "    </tr>\n",
       "    <tr>\n",
       "      <th>18</th>\n",
       "      <td>Victor Aloma</td>\n",
       "      <td>victorloma@netscape.net</td>\n",
       "      <td>None</td>\n",
       "      <td>ntcir-listmem@newns.op.nii.ac.jp</td>\n",
       "      <td>16 Nov 2002</td>\n",
       "      <td>Urgent Assistance</td>\n",
       "      <td>The Director,\\n\\n\\n\\n            SEEKING FOR I...</td>\n",
       "    </tr>\n",
       "    <tr>\n",
       "      <th>19</th>\n",
       "      <td>Victor Aloma</td>\n",
       "      <td>victorloma@netscape.net</td>\n",
       "      <td>None</td>\n",
       "      <td>ntcir-outgoing@mail.op.nii.ac.jp</td>\n",
       "      <td>16 Nov 2002</td>\n",
       "      <td>Urgent Assistance</td>\n",
       "      <td>The Director,\\n\\n\\n\\n            SEEKING FOR I...</td>\n",
       "    </tr>\n",
       "  </tbody>\n",
       "</table>\n",
       "</div>"
      ],
      "text/plain": [
       "               sender_name                   sender_email recipient_name  \\\n",
       "0         MR. JAMES NGOLA.    james_ngola2002@maktoob.com           None   \n",
       "1          Mr. Ben Suleman   bensul2004nng@spinfinder.com           None   \n",
       "2       PRINCE OBONG ELEME           obong_715@epatra.com           None   \n",
       "3       PRINCE OBONG ELEME           obong_715@epatra.com           None   \n",
       "4            Maryam Abacha             m_abacha03@www.com           None   \n",
       "5                     None         davidkuta@postmark.net           None   \n",
       "6   Barrister tunde dosumu         tunde_dosumu@lycos.com           None   \n",
       "7           William Drallo  william2244drallo@maktoob.com           None   \n",
       "8           MR USMAN ABDUL       abdul_817@rediffmail.com           None   \n",
       "9            Tunde  Dosumu         barrister_td@lycos.com           None   \n",
       "10                    None    temijohnson2@rediffmail.com           None   \n",
       "11           Dr.Sam jordan          sjordan@diplomats.com           None   \n",
       "12                    None            p_brown2@lawyer.com           None   \n",
       "13                    None                mic_k1@post.com           None   \n",
       "14      COL. MICHAEL BUNDU     mikebunduu1@rediffmail.com           None   \n",
       "15       MRS MARIAM ABACHA            elixwilliam@usa.com           None   \n",
       "16         DR. ANAYO AWKA           anayoawka@hotmail.com           None   \n",
       "17         DR. ANAYO AWKA           anayoawka@hotmail.com           None   \n",
       "18            Victor Aloma        victorloma@netscape.net           None   \n",
       "19            Victor Aloma        victorloma@netscape.net           None   \n",
       "\n",
       "                     recipient_email         date  \\\n",
       "0        james_ngola2002@maktoob.com  31 Oct 2002   \n",
       "1                                R@M  31 Oct 2002   \n",
       "2               obong_715@epatra.com  31 Oct 2002   \n",
       "3               webmaster@aclweb.org  31 Oct 2002   \n",
       "4                 m_abacha03@www.com   1 Nov 2002   \n",
       "5                davidkuta@yahoo.com  02 Nov 2002   \n",
       "6             tunde_dosumu@lycos.com         None   \n",
       "7      william2244drallo@maktoob.com   3 Nov 2002   \n",
       "8                                R@M  04 Nov 2002   \n",
       "9             barrister_td@lycos.com         None   \n",
       "10                               R@E   6 Nov 2001   \n",
       "11                               R@M  08 Nov 2002   \n",
       "12               p_brown2@lawyer.com   8 Nov 2002   \n",
       "13                               R@M  11 Nov 2002   \n",
       "14                               R@E  13 Nov 2001   \n",
       "15    presidentwifeng@indiatimes.com  14 Nov 2002   \n",
       "16              webmaster@aclweb.org  15 Nov 2002   \n",
       "17              webmaster@aclweb.org  15 Nov 2002   \n",
       "18  ntcir-listmem@newns.op.nii.ac.jp  16 Nov 2002   \n",
       "19  ntcir-outgoing@mail.op.nii.ac.jp  16 Nov 2002   \n",
       "\n",
       "                                       subject  \\\n",
       "0   URGENT BUSINESS ASSISTANCE AND PARTNERSHIP   \n",
       "1          URGENT ASSISTANCE /RELATIONSHIP (P)   \n",
       "2                              GOOD DAY TO YOU   \n",
       "3                              GOOD DAY TO YOU   \n",
       "4                      I Need Your Assistance.   \n",
       "5                                  Partnership   \n",
       "6                             Urgent Attention   \n",
       "7                      URGENT BUSINESS PRPOSAL   \n",
       "8                                    THANK YOU   \n",
       "9                            Urgent Assistance   \n",
       "10                                   IMPORTANT   \n",
       "11                          URGENT ASSISTANCE.   \n",
       "12                 From: Barrister Peter Brown   \n",
       "13                                     MICHAEL   \n",
       "14                    *****SPAM***** IMPORTANT   \n",
       "15                           TRUST TRANSACTION   \n",
       "16      REQUEST FOR YOUR UNRESERVED ASSISTANCE   \n",
       "17      REQUEST FOR YOUR UNRESERVED ASSISTANCE   \n",
       "18                           Urgent Assistance   \n",
       "19                           Urgent Assistance   \n",
       "\n",
       "                                           email_body  \n",
       "0   FROM:MR. JAMES NGOLA.\\nCONFIDENTIAL TEL: 233-2...  \n",
       "1   Dear Friend,\\n\\nI am Mr. Ben Suleman a custom ...  \n",
       "2   FROM HIS ROYAL MAJESTY (HRM) CROWN RULER OF EL...  \n",
       "3   FROM HIS ROYAL MAJESTY (HRM) CROWN RULER OF EL...  \n",
       "4   Dear sir, \\n \\nIt is with a heart full of hope...  \n",
       "5   ATTENTION:                                    ...  \n",
       "6   Dear Sir,\\n\\nI am Barrister Tunde Dosumu (SAN)...  \n",
       "7   FROM: WILLIAM DRALLO.\\nCONFIDENTIAL TEL: 233-2...  \n",
       "8   CHALLENGE SECURITIES LTD.\\nLAGOS, NIGERIA\\n\\n\\...  \n",
       "9   Dear Sir,\\n\\nI am Barrister Tunde Dosumu (SAN)...  \n",
       "10  FROM: MR TEMI JOHNSON\\nDEMOCRATIC REPUBLIC OF ...  \n",
       "11  FROM THE DESK OF DR.SAM JORDAN\\nTHE MANAGER\\nH...  \n",
       "12  \\nSENIOR ADVOCATE OF NIGERIA\\nBARR. PETER BROW...  \n",
       "13  From;Mr.Michael Kamah and Family,\\n          J...  \n",
       "14  FROM: COL. MICHAEL BUNDU. \\nDEMOCRATIC REPUBLI...  \n",
       "15  Dear Sir,\\n\\nA Very Good day to you   \\n\\nI am...  \n",
       "16  FROM: DR. ANAYO AWKA BANK MANAGER \\n(UNION BAN...  \n",
       "17  FROM: DR. ANAYO AWKA BANK MANAGER \\n(UNION BAN...  \n",
       "18  The Director,\\n\\n\\n\\n            SEEKING FOR I...  \n",
       "19  The Director,\\n\\n\\n\\n            SEEKING FOR I...  "
      ]
     },
     "execution_count": 12,
     "metadata": {},
     "output_type": "execute_result"
    }
   ],
   "source": [
    "#將處理結果轉化為dataframe\n",
    "emails_df = pd.DataFrame(emails_list)\n",
    "emails_df"
   ]
  },
  {
   "cell_type": "code",
   "execution_count": null,
   "metadata": {},
   "outputs": [],
   "source": []
  }
 ],
 "metadata": {
  "colab": {
   "name": "Python_regular_expression_作業.ipynb",
   "provenance": []
  },
  "kernelspec": {
   "display_name": "Python 3",
   "language": "python",
   "name": "python3"
  },
  "language_info": {
   "codemirror_mode": {
    "name": "ipython",
    "version": 3
   },
   "file_extension": ".py",
   "mimetype": "text/x-python",
   "name": "python",
   "nbconvert_exporter": "python",
   "pygments_lexer": "ipython3",
   "version": "3.7.7"
  },
  "toc": {
   "base_numbering": 1,
   "nav_menu": {},
   "number_sections": true,
   "sideBar": true,
   "skip_h1_title": false,
   "title_cell": "Table of Contents",
   "title_sidebar": "Contents",
   "toc_cell": false,
   "toc_position": {},
   "toc_section_display": true,
   "toc_window_display": false
  }
 },
 "nbformat": 4,
 "nbformat_minor": 1
}
